{
 "cells": [
  {
   "cell_type": "code",
   "execution_count": 3,
   "id": "ff45f96e",
   "metadata": {},
   "outputs": [],
   "source": [
    "#Load the Packages Needed\n",
    "import pandas as pd\n",
    "import numpy as np\n",
    "import matplotlib.pyplot as plt"
   ]
  },
  {
   "cell_type": "code",
   "execution_count": 4,
   "id": "58572a1c",
   "metadata": {},
   "outputs": [
    {
     "data": {
      "text/html": [
       "<div>\n",
       "<style scoped>\n",
       "    .dataframe tbody tr th:only-of-type {\n",
       "        vertical-align: middle;\n",
       "    }\n",
       "\n",
       "    .dataframe tbody tr th {\n",
       "        vertical-align: top;\n",
       "    }\n",
       "\n",
       "    .dataframe thead th {\n",
       "        text-align: right;\n",
       "    }\n",
       "</style>\n",
       "<table border=\"1\" class=\"dataframe\">\n",
       "  <thead>\n",
       "    <tr style=\"text-align: right;\">\n",
       "      <th></th>\n",
       "      <th>countrycode</th>\n",
       "      <th>country</th>\n",
       "      <th>currency_unit</th>\n",
       "      <th>year</th>\n",
       "      <th>rgdpe</th>\n",
       "      <th>rgdpo</th>\n",
       "      <th>pop</th>\n",
       "      <th>emp</th>\n",
       "      <th>avh</th>\n",
       "      <th>hc</th>\n",
       "      <th>...</th>\n",
       "      <th>csh_x</th>\n",
       "      <th>csh_m</th>\n",
       "      <th>csh_r</th>\n",
       "      <th>pl_c</th>\n",
       "      <th>pl_i</th>\n",
       "      <th>pl_g</th>\n",
       "      <th>pl_x</th>\n",
       "      <th>pl_m</th>\n",
       "      <th>pl_n</th>\n",
       "      <th>pl_k</th>\n",
       "    </tr>\n",
       "  </thead>\n",
       "  <tbody>\n",
       "    <tr>\n",
       "      <th>0</th>\n",
       "      <td>ABW</td>\n",
       "      <td>Aruba</td>\n",
       "      <td>Aruban Guilder</td>\n",
       "      <td>1950</td>\n",
       "      <td>NaN</td>\n",
       "      <td>NaN</td>\n",
       "      <td>NaN</td>\n",
       "      <td>NaN</td>\n",
       "      <td>NaN</td>\n",
       "      <td>NaN</td>\n",
       "      <td>...</td>\n",
       "      <td>NaN</td>\n",
       "      <td>NaN</td>\n",
       "      <td>NaN</td>\n",
       "      <td>NaN</td>\n",
       "      <td>NaN</td>\n",
       "      <td>NaN</td>\n",
       "      <td>NaN</td>\n",
       "      <td>NaN</td>\n",
       "      <td>NaN</td>\n",
       "      <td>NaN</td>\n",
       "    </tr>\n",
       "    <tr>\n",
       "      <th>1</th>\n",
       "      <td>ABW</td>\n",
       "      <td>Aruba</td>\n",
       "      <td>Aruban Guilder</td>\n",
       "      <td>1951</td>\n",
       "      <td>NaN</td>\n",
       "      <td>NaN</td>\n",
       "      <td>NaN</td>\n",
       "      <td>NaN</td>\n",
       "      <td>NaN</td>\n",
       "      <td>NaN</td>\n",
       "      <td>...</td>\n",
       "      <td>NaN</td>\n",
       "      <td>NaN</td>\n",
       "      <td>NaN</td>\n",
       "      <td>NaN</td>\n",
       "      <td>NaN</td>\n",
       "      <td>NaN</td>\n",
       "      <td>NaN</td>\n",
       "      <td>NaN</td>\n",
       "      <td>NaN</td>\n",
       "      <td>NaN</td>\n",
       "    </tr>\n",
       "    <tr>\n",
       "      <th>2</th>\n",
       "      <td>ABW</td>\n",
       "      <td>Aruba</td>\n",
       "      <td>Aruban Guilder</td>\n",
       "      <td>1952</td>\n",
       "      <td>NaN</td>\n",
       "      <td>NaN</td>\n",
       "      <td>NaN</td>\n",
       "      <td>NaN</td>\n",
       "      <td>NaN</td>\n",
       "      <td>NaN</td>\n",
       "      <td>...</td>\n",
       "      <td>NaN</td>\n",
       "      <td>NaN</td>\n",
       "      <td>NaN</td>\n",
       "      <td>NaN</td>\n",
       "      <td>NaN</td>\n",
       "      <td>NaN</td>\n",
       "      <td>NaN</td>\n",
       "      <td>NaN</td>\n",
       "      <td>NaN</td>\n",
       "      <td>NaN</td>\n",
       "    </tr>\n",
       "    <tr>\n",
       "      <th>3</th>\n",
       "      <td>ABW</td>\n",
       "      <td>Aruba</td>\n",
       "      <td>Aruban Guilder</td>\n",
       "      <td>1953</td>\n",
       "      <td>NaN</td>\n",
       "      <td>NaN</td>\n",
       "      <td>NaN</td>\n",
       "      <td>NaN</td>\n",
       "      <td>NaN</td>\n",
       "      <td>NaN</td>\n",
       "      <td>...</td>\n",
       "      <td>NaN</td>\n",
       "      <td>NaN</td>\n",
       "      <td>NaN</td>\n",
       "      <td>NaN</td>\n",
       "      <td>NaN</td>\n",
       "      <td>NaN</td>\n",
       "      <td>NaN</td>\n",
       "      <td>NaN</td>\n",
       "      <td>NaN</td>\n",
       "      <td>NaN</td>\n",
       "    </tr>\n",
       "    <tr>\n",
       "      <th>4</th>\n",
       "      <td>ABW</td>\n",
       "      <td>Aruba</td>\n",
       "      <td>Aruban Guilder</td>\n",
       "      <td>1954</td>\n",
       "      <td>NaN</td>\n",
       "      <td>NaN</td>\n",
       "      <td>NaN</td>\n",
       "      <td>NaN</td>\n",
       "      <td>NaN</td>\n",
       "      <td>NaN</td>\n",
       "      <td>...</td>\n",
       "      <td>NaN</td>\n",
       "      <td>NaN</td>\n",
       "      <td>NaN</td>\n",
       "      <td>NaN</td>\n",
       "      <td>NaN</td>\n",
       "      <td>NaN</td>\n",
       "      <td>NaN</td>\n",
       "      <td>NaN</td>\n",
       "      <td>NaN</td>\n",
       "      <td>NaN</td>\n",
       "    </tr>\n",
       "    <tr>\n",
       "      <th>...</th>\n",
       "      <td>...</td>\n",
       "      <td>...</td>\n",
       "      <td>...</td>\n",
       "      <td>...</td>\n",
       "      <td>...</td>\n",
       "      <td>...</td>\n",
       "      <td>...</td>\n",
       "      <td>...</td>\n",
       "      <td>...</td>\n",
       "      <td>...</td>\n",
       "      <td>...</td>\n",
       "      <td>...</td>\n",
       "      <td>...</td>\n",
       "      <td>...</td>\n",
       "      <td>...</td>\n",
       "      <td>...</td>\n",
       "      <td>...</td>\n",
       "      <td>...</td>\n",
       "      <td>...</td>\n",
       "      <td>...</td>\n",
       "      <td>...</td>\n",
       "    </tr>\n",
       "    <tr>\n",
       "      <th>12805</th>\n",
       "      <td>ZWE</td>\n",
       "      <td>Zimbabwe</td>\n",
       "      <td>US Dollar</td>\n",
       "      <td>2015</td>\n",
       "      <td>40141.61719</td>\n",
       "      <td>39798.64453</td>\n",
       "      <td>13.814629</td>\n",
       "      <td>6.393752</td>\n",
       "      <td>NaN</td>\n",
       "      <td>2.584653</td>\n",
       "      <td>...</td>\n",
       "      <td>0.140172</td>\n",
       "      <td>-0.287693</td>\n",
       "      <td>-0.051930</td>\n",
       "      <td>0.479228</td>\n",
       "      <td>0.651287</td>\n",
       "      <td>0.541446</td>\n",
       "      <td>0.616689</td>\n",
       "      <td>0.533235</td>\n",
       "      <td>0.422764</td>\n",
       "      <td>1.533909</td>\n",
       "    </tr>\n",
       "    <tr>\n",
       "      <th>12806</th>\n",
       "      <td>ZWE</td>\n",
       "      <td>Zimbabwe</td>\n",
       "      <td>US Dollar</td>\n",
       "      <td>2016</td>\n",
       "      <td>41875.20313</td>\n",
       "      <td>40963.19141</td>\n",
       "      <td>14.030331</td>\n",
       "      <td>6.504374</td>\n",
       "      <td>NaN</td>\n",
       "      <td>2.616257</td>\n",
       "      <td>...</td>\n",
       "      <td>0.131920</td>\n",
       "      <td>-0.251232</td>\n",
       "      <td>-0.016258</td>\n",
       "      <td>0.470640</td>\n",
       "      <td>0.651027</td>\n",
       "      <td>0.539631</td>\n",
       "      <td>0.619789</td>\n",
       "      <td>0.519718</td>\n",
       "      <td>0.416510</td>\n",
       "      <td>1.491724</td>\n",
       "    </tr>\n",
       "    <tr>\n",
       "      <th>12807</th>\n",
       "      <td>ZWE</td>\n",
       "      <td>Zimbabwe</td>\n",
       "      <td>US Dollar</td>\n",
       "      <td>2017</td>\n",
       "      <td>44672.17578</td>\n",
       "      <td>44316.74219</td>\n",
       "      <td>14.236595</td>\n",
       "      <td>6.611773</td>\n",
       "      <td>NaN</td>\n",
       "      <td>2.648248</td>\n",
       "      <td>...</td>\n",
       "      <td>0.126722</td>\n",
       "      <td>-0.202827</td>\n",
       "      <td>-0.039897</td>\n",
       "      <td>0.473560</td>\n",
       "      <td>0.639560</td>\n",
       "      <td>0.519956</td>\n",
       "      <td>0.619739</td>\n",
       "      <td>0.552042</td>\n",
       "      <td>0.415592</td>\n",
       "      <td>1.514525</td>\n",
       "    </tr>\n",
       "    <tr>\n",
       "      <th>12808</th>\n",
       "      <td>ZWE</td>\n",
       "      <td>Zimbabwe</td>\n",
       "      <td>US Dollar</td>\n",
       "      <td>2018</td>\n",
       "      <td>44325.10938</td>\n",
       "      <td>43420.89844</td>\n",
       "      <td>14.438802</td>\n",
       "      <td>6.714952</td>\n",
       "      <td>NaN</td>\n",
       "      <td>2.680630</td>\n",
       "      <td>...</td>\n",
       "      <td>0.144485</td>\n",
       "      <td>-0.263658</td>\n",
       "      <td>-0.020791</td>\n",
       "      <td>0.543757</td>\n",
       "      <td>0.655473</td>\n",
       "      <td>0.529867</td>\n",
       "      <td>0.641361</td>\n",
       "      <td>0.561526</td>\n",
       "      <td>0.425143</td>\n",
       "      <td>1.590120</td>\n",
       "    </tr>\n",
       "    <tr>\n",
       "      <th>12809</th>\n",
       "      <td>ZWE</td>\n",
       "      <td>Zimbabwe</td>\n",
       "      <td>US Dollar</td>\n",
       "      <td>2019</td>\n",
       "      <td>42296.06250</td>\n",
       "      <td>40826.57031</td>\n",
       "      <td>14.645468</td>\n",
       "      <td>6.831017</td>\n",
       "      <td>NaN</td>\n",
       "      <td>2.713408</td>\n",
       "      <td>...</td>\n",
       "      <td>0.213562</td>\n",
       "      <td>-0.270959</td>\n",
       "      <td>-0.089798</td>\n",
       "      <td>0.494755</td>\n",
       "      <td>0.652439</td>\n",
       "      <td>0.500927</td>\n",
       "      <td>0.487763</td>\n",
       "      <td>0.430082</td>\n",
       "      <td>0.420675</td>\n",
       "      <td>1.384068</td>\n",
       "    </tr>\n",
       "  </tbody>\n",
       "</table>\n",
       "<p>12810 rows × 52 columns</p>\n",
       "</div>"
      ],
      "text/plain": [
       "      countrycode   country   currency_unit  year        rgdpe        rgdpo  \\\n",
       "0             ABW     Aruba  Aruban Guilder  1950          NaN          NaN   \n",
       "1             ABW     Aruba  Aruban Guilder  1951          NaN          NaN   \n",
       "2             ABW     Aruba  Aruban Guilder  1952          NaN          NaN   \n",
       "3             ABW     Aruba  Aruban Guilder  1953          NaN          NaN   \n",
       "4             ABW     Aruba  Aruban Guilder  1954          NaN          NaN   \n",
       "...           ...       ...             ...   ...          ...          ...   \n",
       "12805         ZWE  Zimbabwe       US Dollar  2015  40141.61719  39798.64453   \n",
       "12806         ZWE  Zimbabwe       US Dollar  2016  41875.20313  40963.19141   \n",
       "12807         ZWE  Zimbabwe       US Dollar  2017  44672.17578  44316.74219   \n",
       "12808         ZWE  Zimbabwe       US Dollar  2018  44325.10938  43420.89844   \n",
       "12809         ZWE  Zimbabwe       US Dollar  2019  42296.06250  40826.57031   \n",
       "\n",
       "             pop       emp  avh        hc  ...     csh_x     csh_m     csh_r  \\\n",
       "0            NaN       NaN  NaN       NaN  ...       NaN       NaN       NaN   \n",
       "1            NaN       NaN  NaN       NaN  ...       NaN       NaN       NaN   \n",
       "2            NaN       NaN  NaN       NaN  ...       NaN       NaN       NaN   \n",
       "3            NaN       NaN  NaN       NaN  ...       NaN       NaN       NaN   \n",
       "4            NaN       NaN  NaN       NaN  ...       NaN       NaN       NaN   \n",
       "...          ...       ...  ...       ...  ...       ...       ...       ...   \n",
       "12805  13.814629  6.393752  NaN  2.584653  ...  0.140172 -0.287693 -0.051930   \n",
       "12806  14.030331  6.504374  NaN  2.616257  ...  0.131920 -0.251232 -0.016258   \n",
       "12807  14.236595  6.611773  NaN  2.648248  ...  0.126722 -0.202827 -0.039897   \n",
       "12808  14.438802  6.714952  NaN  2.680630  ...  0.144485 -0.263658 -0.020791   \n",
       "12809  14.645468  6.831017  NaN  2.713408  ...  0.213562 -0.270959 -0.089798   \n",
       "\n",
       "           pl_c      pl_i      pl_g      pl_x      pl_m      pl_n      pl_k  \n",
       "0           NaN       NaN       NaN       NaN       NaN       NaN       NaN  \n",
       "1           NaN       NaN       NaN       NaN       NaN       NaN       NaN  \n",
       "2           NaN       NaN       NaN       NaN       NaN       NaN       NaN  \n",
       "3           NaN       NaN       NaN       NaN       NaN       NaN       NaN  \n",
       "4           NaN       NaN       NaN       NaN       NaN       NaN       NaN  \n",
       "...         ...       ...       ...       ...       ...       ...       ...  \n",
       "12805  0.479228  0.651287  0.541446  0.616689  0.533235  0.422764  1.533909  \n",
       "12806  0.470640  0.651027  0.539631  0.619789  0.519718  0.416510  1.491724  \n",
       "12807  0.473560  0.639560  0.519956  0.619739  0.552042  0.415592  1.514525  \n",
       "12808  0.543757  0.655473  0.529867  0.641361  0.561526  0.425143  1.590120  \n",
       "12809  0.494755  0.652439  0.500927  0.487763  0.430082  0.420675  1.384068  \n",
       "\n",
       "[12810 rows x 52 columns]"
      ]
     },
     "execution_count": 4,
     "metadata": {},
     "output_type": "execute_result"
    }
   ],
   "source": [
    "#Load the Data\n",
    "pwt = pd.read_csv('https://raw.githubusercontent.com/jivizcaino/PWT_10.0/main/pwt100.csv', encoding=\"latin-1\")\n",
    "pwt"
   ]
  },
  {
   "cell_type": "code",
   "execution_count": 5,
   "id": "14453d56",
   "metadata": {},
   "outputs": [
    {
     "data": {
      "text/html": [
       "<div>\n",
       "<style scoped>\n",
       "    .dataframe tbody tr th:only-of-type {\n",
       "        vertical-align: middle;\n",
       "    }\n",
       "\n",
       "    .dataframe tbody tr th {\n",
       "        vertical-align: top;\n",
       "    }\n",
       "\n",
       "    .dataframe thead th {\n",
       "        text-align: right;\n",
       "    }\n",
       "</style>\n",
       "<table border=\"1\" class=\"dataframe\">\n",
       "  <thead>\n",
       "    <tr style=\"text-align: right;\">\n",
       "      <th></th>\n",
       "      <th>countrycode</th>\n",
       "      <th>year</th>\n",
       "      <th>cgdpo</th>\n",
       "      <th>pop</th>\n",
       "      <th>emp</th>\n",
       "      <th>avh</th>\n",
       "      <th>hc</th>\n",
       "      <th>cn</th>\n",
       "      <th>labsh</th>\n",
       "      <th>ctfp</th>\n",
       "    </tr>\n",
       "    <tr>\n",
       "      <th>country</th>\n",
       "      <th></th>\n",
       "      <th></th>\n",
       "      <th></th>\n",
       "      <th></th>\n",
       "      <th></th>\n",
       "      <th></th>\n",
       "      <th></th>\n",
       "      <th></th>\n",
       "      <th></th>\n",
       "      <th></th>\n",
       "    </tr>\n",
       "  </thead>\n",
       "  <tbody>\n",
       "    <tr>\n",
       "      <th>Argentina</th>\n",
       "      <td>ARG</td>\n",
       "      <td>2010</td>\n",
       "      <td>768478.2500</td>\n",
       "      <td>40.895752</td>\n",
       "      <td>18.076746</td>\n",
       "      <td>1760.224782</td>\n",
       "      <td>2.830078</td>\n",
       "      <td>2876207.25</td>\n",
       "      <td>0.440692</td>\n",
       "      <td>0.777526</td>\n",
       "    </tr>\n",
       "    <tr>\n",
       "      <th>Argentina</th>\n",
       "      <td>ARG</td>\n",
       "      <td>2011</td>\n",
       "      <td>868765.0625</td>\n",
       "      <td>41.320500</td>\n",
       "      <td>18.488029</td>\n",
       "      <td>1760.230369</td>\n",
       "      <td>2.858542</td>\n",
       "      <td>3099233.75</td>\n",
       "      <td>0.473124</td>\n",
       "      <td>0.828393</td>\n",
       "    </tr>\n",
       "    <tr>\n",
       "      <th>Argentina</th>\n",
       "      <td>ARG</td>\n",
       "      <td>2012</td>\n",
       "      <td>882438.8125</td>\n",
       "      <td>41.755196</td>\n",
       "      <td>18.791292</td>\n",
       "      <td>1736.103360</td>\n",
       "      <td>2.887292</td>\n",
       "      <td>3156028.75</td>\n",
       "      <td>0.520179</td>\n",
       "      <td>0.819774</td>\n",
       "    </tr>\n",
       "    <tr>\n",
       "      <th>Argentina</th>\n",
       "      <td>ARG</td>\n",
       "      <td>2013</td>\n",
       "      <td>885112.9375</td>\n",
       "      <td>42.196030</td>\n",
       "      <td>19.124418</td>\n",
       "      <td>1725.873553</td>\n",
       "      <td>2.916332</td>\n",
       "      <td>3166597.50</td>\n",
       "      <td>0.543918</td>\n",
       "      <td>0.813449</td>\n",
       "    </tr>\n",
       "    <tr>\n",
       "      <th>Argentina</th>\n",
       "      <td>ARG</td>\n",
       "      <td>2014</td>\n",
       "      <td>864304.0000</td>\n",
       "      <td>42.637511</td>\n",
       "      <td>19.383051</td>\n",
       "      <td>1705.428368</td>\n",
       "      <td>2.945663</td>\n",
       "      <td>3204576.50</td>\n",
       "      <td>0.543918</td>\n",
       "      <td>0.781934</td>\n",
       "    </tr>\n",
       "    <tr>\n",
       "      <th>...</th>\n",
       "      <td>...</td>\n",
       "      <td>...</td>\n",
       "      <td>...</td>\n",
       "      <td>...</td>\n",
       "      <td>...</td>\n",
       "      <td>...</td>\n",
       "      <td>...</td>\n",
       "      <td>...</td>\n",
       "      <td>...</td>\n",
       "      <td>...</td>\n",
       "    </tr>\n",
       "    <tr>\n",
       "      <th>South Africa</th>\n",
       "      <td>ZAF</td>\n",
       "      <td>2014</td>\n",
       "      <td>699348.0625</td>\n",
       "      <td>54.544186</td>\n",
       "      <td>16.992683</td>\n",
       "      <td>2209.091467</td>\n",
       "      <td>2.675951</td>\n",
       "      <td>2727571.50</td>\n",
       "      <td>0.552341</td>\n",
       "      <td>0.596181</td>\n",
       "    </tr>\n",
       "    <tr>\n",
       "      <th>South Africa</th>\n",
       "      <td>ZAF</td>\n",
       "      <td>2016</td>\n",
       "      <td>710312.5000</td>\n",
       "      <td>56.207646</td>\n",
       "      <td>17.984968</td>\n",
       "      <td>2218.455068</td>\n",
       "      <td>2.762902</td>\n",
       "      <td>2773613.50</td>\n",
       "      <td>0.568343</td>\n",
       "      <td>0.566500</td>\n",
       "    </tr>\n",
       "    <tr>\n",
       "      <th>South Africa</th>\n",
       "      <td>ZAF</td>\n",
       "      <td>2017</td>\n",
       "      <td>726021.0000</td>\n",
       "      <td>57.009756</td>\n",
       "      <td>18.302843</td>\n",
       "      <td>2197.033263</td>\n",
       "      <td>2.809246</td>\n",
       "      <td>2791243.75</td>\n",
       "      <td>0.570414</td>\n",
       "      <td>0.570064</td>\n",
       "    </tr>\n",
       "    <tr>\n",
       "      <th>South Africa</th>\n",
       "      <td>ZAF</td>\n",
       "      <td>2018</td>\n",
       "      <td>733319.3750</td>\n",
       "      <td>57.792518</td>\n",
       "      <td>18.686357</td>\n",
       "      <td>2191.363362</td>\n",
       "      <td>2.857641</td>\n",
       "      <td>2846327.75</td>\n",
       "      <td>0.570888</td>\n",
       "      <td>0.554365</td>\n",
       "    </tr>\n",
       "    <tr>\n",
       "      <th>South Africa</th>\n",
       "      <td>ZAF</td>\n",
       "      <td>2019</td>\n",
       "      <td>735067.0625</td>\n",
       "      <td>58.558270</td>\n",
       "      <td>18.642710</td>\n",
       "      <td>2191.363362</td>\n",
       "      <td>2.908202</td>\n",
       "      <td>2897706.00</td>\n",
       "      <td>0.570888</td>\n",
       "      <td>0.542998</td>\n",
       "    </tr>\n",
       "  </tbody>\n",
       "</table>\n",
       "<p>608 rows × 10 columns</p>\n",
       "</div>"
      ],
      "text/plain": [
       "             countrycode  year        cgdpo        pop        emp  \\\n",
       "country                                                             \n",
       "Argentina            ARG  2010  768478.2500  40.895752  18.076746   \n",
       "Argentina            ARG  2011  868765.0625  41.320500  18.488029   \n",
       "Argentina            ARG  2012  882438.8125  41.755196  18.791292   \n",
       "Argentina            ARG  2013  885112.9375  42.196030  19.124418   \n",
       "Argentina            ARG  2014  864304.0000  42.637511  19.383051   \n",
       "...                  ...   ...          ...        ...        ...   \n",
       "South Africa         ZAF  2014  699348.0625  54.544186  16.992683   \n",
       "South Africa         ZAF  2016  710312.5000  56.207646  17.984968   \n",
       "South Africa         ZAF  2017  726021.0000  57.009756  18.302843   \n",
       "South Africa         ZAF  2018  733319.3750  57.792518  18.686357   \n",
       "South Africa         ZAF  2019  735067.0625  58.558270  18.642710   \n",
       "\n",
       "                      avh        hc          cn     labsh      ctfp  \n",
       "country                                                              \n",
       "Argentina     1760.224782  2.830078  2876207.25  0.440692  0.777526  \n",
       "Argentina     1760.230369  2.858542  3099233.75  0.473124  0.828393  \n",
       "Argentina     1736.103360  2.887292  3156028.75  0.520179  0.819774  \n",
       "Argentina     1725.873553  2.916332  3166597.50  0.543918  0.813449  \n",
       "Argentina     1705.428368  2.945663  3204576.50  0.543918  0.781934  \n",
       "...                   ...       ...         ...       ...       ...  \n",
       "South Africa  2209.091467  2.675951  2727571.50  0.552341  0.596181  \n",
       "South Africa  2218.455068  2.762902  2773613.50  0.568343  0.566500  \n",
       "South Africa  2197.033263  2.809246  2791243.75  0.570414  0.570064  \n",
       "South Africa  2191.363362  2.857641  2846327.75  0.570888  0.554365  \n",
       "South Africa  2191.363362  2.908202  2897706.00  0.570888  0.542998  \n",
       "\n",
       "[608 rows x 10 columns]"
      ]
     },
     "execution_count": 5,
     "metadata": {},
     "output_type": "execute_result"
    }
   ],
   "source": [
    "#Prepare the Dataset and Clean the Data\n",
    "pwt_subset = pwt[['country','countrycode','year','cgdpo','pop','emp','avh','hc','cn','labsh','ctfp']]\n",
    "pwt_subset = pwt_subset[pwt_subset['year'] > 2009]\n",
    "pwt_subset = pwt_subset.set_index('country')\n",
    "pwt_subset = pwt_subset.dropna()\n",
    "pwt_subset"
   ]
  },
  {
   "cell_type": "code",
   "execution_count": 6,
   "id": "ce693f22",
   "metadata": {},
   "outputs": [
    {
     "name": "stdout",
     "output_type": "stream",
     "text": [
      "      countrycode  cgdpo  pop  emp  avh  hc  cn  labsh  ctfp\n",
      "year                                                        \n",
      "2010           61     61   61   61   61  61  61     61    61\n",
      "2011           61     61   61   61   61  61  61     61    61\n",
      "2012           61     61   61   61   61  61  61     61    61\n",
      "2013           61     61   61   61   61  61  61     61    61\n",
      "2014           60     60   60   60   60  60  60     60    60\n",
      "2015           60     60   60   60   60  60  60     60    60\n",
      "2016           61     61   61   61   61  61  61     61    61\n",
      "2017           61     61   61   61   61  61  61     61    61\n",
      "2018           61     61   61   61   61  61  61     61    61\n",
      "2019           61     61   61   61   61  61  61     61    61\n"
     ]
    }
   ],
   "source": [
    "#Choose the Year to Perform the Analysis\n",
    "print(pwt_subset.groupby(\"year\").count()) "
   ]
  },
  {
   "cell_type": "markdown",
   "id": "841868d0",
   "metadata": {},
   "source": [
    "We will choose 2019: the latest year with the largets number of ebservations for our variables of interest.\n",
    "*To Do: Robustness using 2010,2015, and an average for 2010-2019"
   ]
  },
  {
   "cell_type": "code",
   "execution_count": 9,
   "id": "c3da4fba",
   "metadata": {},
   "outputs": [
    {
     "name": "stdout",
     "output_type": "stream",
     "text": [
      "         year        cgdpo      pop     emp      avh     hc            cn  \\\n",
      "count    61.0        61.00    61.00   61.00    61.00  61.00  6.100000e+01   \n",
      "mean   2019.0   1766051.39    86.23   40.07  1814.08   3.23  8.117018e+06   \n",
      "std       0.0   3788319.57   252.13  120.07   240.46   0.43  1.636157e+07   \n",
      "min    2019.0     17330.60     0.34    0.19  1380.61   2.17  6.244054e+04   \n",
      "5%     2019.0     45079.35     0.87    0.46  1439.73   2.51  2.194441e+05   \n",
      "10%    2019.0     71310.98     2.08    1.05  1505.56   2.70  3.189460e+05   \n",
      "25%    2019.0    199241.38     5.53    2.85  1611.37   2.90  8.281802e+05   \n",
      "50%    2019.0    496383.50    17.10    8.10  1791.74   3.27  2.566180e+06   \n",
      "75%    2019.0   1862070.00    58.56   25.60  2019.92   3.59  8.721109e+06   \n",
      "90%    2019.0   3120405.75   127.58   69.98  2142.10   3.72  1.885582e+07   \n",
      "95%    2019.0   5031850.00   270.63  131.17  2168.92   3.77  2.610288e+07   \n",
      "max    2019.0  20566034.00  1433.78  798.81  2330.17   4.35  1.015442e+08   \n",
      "\n",
      "       labsh   ctfp  \n",
      "count  61.00  61.00  \n",
      "mean    0.55   0.71  \n",
      "std     0.08   0.16  \n",
      "min     0.32   0.40  \n",
      "5%      0.41   0.44  \n",
      "10%     0.44   0.51  \n",
      "25%     0.52   0.60  \n",
      "50%     0.56   0.72  \n",
      "75%     0.59   0.84  \n",
      "90%     0.64   0.91  \n",
      "95%     0.65   0.94  \n",
      "max     0.68   1.03  \n"
     ]
    }
   ],
   "source": [
    "#Descriptive Statistics for the Variables in our Dataset\n",
    "print(pwt_subset[pwt_subset['year'] == 2019].describe([0.05,0.10,0.25,0.50,0.75,0.90,0.95]).round(2))"
   ]
  },
  {
   "cell_type": "code",
   "execution_count": 66,
   "id": "2ec7b5d5",
   "metadata": {},
   "outputs": [],
   "source": [
    "pwt_subset = pwt_subset[pwt_subset['year'] == 2019]"
   ]
  },
  {
   "cell_type": "markdown",
   "id": "48759d37",
   "metadata": {},
   "source": [
    "# Development Accounting"
   ]
  },
  {
   "cell_type": "markdown",
   "id": "7584b372",
   "metadata": {},
   "source": [
    "## GDP per worker"
   ]
  },
  {
   "cell_type": "code",
   "execution_count": 68,
   "id": "ff875897",
   "metadata": {},
   "outputs": [
    {
     "data": {
      "text/plain": [
       "count        61.00\n",
       "mean      74177.78\n",
       "std       36303.48\n",
       "min       18371.85\n",
       "1%        20269.11\n",
       "5%        23559.62\n",
       "10%       31758.38\n",
       "25%       43949.43\n",
       "50%       71907.51\n",
       "75%       96217.70\n",
       "90%      106398.89\n",
       "95%      128644.07\n",
       "99%      169521.02\n",
       "max      219595.21\n",
       "Name: GDP_pw, dtype: float64"
      ]
     },
     "execution_count": 68,
     "metadata": {},
     "output_type": "execute_result"
    }
   ],
   "source": [
    "pwt_subset['GDP_pw'] = pwt_subset['cgdpo']/pwt_subset['emp']\n",
    "pwt_subset['GDP_pw'].describe([0.01,0.05,0.10,0.25,0.50,0.75,0.90,0.95,0.99]).round(2)"
   ]
  },
  {
   "cell_type": "code",
   "execution_count": 69,
   "id": "b6c2d08e",
   "metadata": {},
   "outputs": [
    {
     "data": {
      "text/plain": [
       "20.9828084235369"
      ]
     },
     "execution_count": 69,
     "metadata": {},
     "output_type": "execute_result"
    }
   ],
   "source": [
    "log_var_y_pw = np.log(np.var(pwt_subset['GDP_pw']))\n",
    "log_var_y_pw"
   ]
  },
  {
   "cell_type": "code",
   "execution_count": 70,
   "id": "94ad27e9",
   "metadata": {},
   "outputs": [
    {
     "data": {
      "text/plain": [
       "count        61.00\n",
       "mean      38014.52\n",
       "std       21809.12\n",
       "min       13720.50\n",
       "1%        15713.18\n",
       "5%        19116.97\n",
       "10%       21403.18\n",
       "25%       27488.07\n",
       "50%       34361.97\n",
       "75%       42009.75\n",
       "90%       53999.00\n",
       "95%       58109.69\n",
       "99%      126415.77\n",
       "max      170276.42\n",
       "Name: y_hk_pw, dtype: float64"
      ]
     },
     "execution_count": 70,
     "metadata": {},
     "output_type": "execute_result"
    }
   ],
   "source": [
    "pwt_subset['k']       = (pwt_subset['cn']/pwt_subset['emp'])\n",
    "pwt_subset['y_hk_pw'] = (pwt_subset['k']**(1-pwt_subset['labsh']))*((pwt_subset['avh']*pwt_subset['hc'])**pwt_subset['labsh'])\n",
    "pwt_subset['y_hk_pw'].describe([0.01,0.05,0.10,0.25,0.50,0.75,0.90,0.95,0.99]).round(2)"
   ]
  },
  {
   "cell_type": "code",
   "execution_count": 71,
   "id": "add5bd4c",
   "metadata": {},
   "outputs": [
    {
     "data": {
      "text/plain": [
       "19.96363806709258"
      ]
     },
     "execution_count": 71,
     "metadata": {},
     "output_type": "execute_result"
    }
   ],
   "source": [
    "log_var_y_hk_pw = np.log(np.var(pwt_subset['y_hk_pw']))\n",
    "log_var_y_hk_pw"
   ]
  },
  {
   "cell_type": "code",
   "execution_count": 72,
   "id": "8d14f1b2",
   "metadata": {
    "scrolled": true
   },
   "outputs": [
    {
     "data": {
      "text/plain": [
       "(8.363515913075576, 8.045208034868505)"
      ]
     },
     "execution_count": 72,
     "metadata": {},
     "output_type": "execute_result"
    }
   ],
   "source": [
    "ypw_p99_p01_ratio    = pwt_subset['GDP_pw'].quantile(0.99)/pwt_subset['GDP_pw'].quantile(0.01)\n",
    "yhk_pw_p99_p01_ratio = pwt_subset['y_hk_pw'].quantile(0.99)/pwt_subset['y_hk_pw'].quantile(0.01)\n",
    "ypw_p99_p01_ratio,yhk_pw_p99_p01_ratio"
   ]
  },
  {
   "cell_type": "code",
   "execution_count": 73,
   "id": "39432e8f",
   "metadata": {},
   "outputs": [
    {
     "data": {
      "text/plain": [
       "(5.460361820923015, 3.039691074416934)"
      ]
     },
     "execution_count": 73,
     "metadata": {},
     "output_type": "execute_result"
    }
   ],
   "source": [
    "ypw_p95_p05_ratio    = pwt_subset['GDP_pw'].quantile(0.95)/pwt_subset['GDP_pw'].quantile(0.05)\n",
    "yhk_pw_p95_p05_ratio = pwt_subset['y_hk_pw'].quantile(0.95)/pwt_subset['y_hk_pw'].quantile(0.05)\n",
    "ypw_p95_p05_ratio,yhk_pw_p95_p05_ratio"
   ]
  },
  {
   "cell_type": "code",
   "execution_count": 74,
   "id": "956a38d7",
   "metadata": {},
   "outputs": [
    {
     "data": {
      "text/plain": [
       "(3.3502616739254916, 2.522942696685417)"
      ]
     },
     "execution_count": 74,
     "metadata": {},
     "output_type": "execute_result"
    }
   ],
   "source": [
    "ypw_p90_p10_ratio    = pwt_subset['GDP_pw'].quantile(0.90)/pwt_subset['GDP_pw'].quantile(0.10)\n",
    "yhk_pw_p90_p10_ratio = pwt_subset['y_hk_pw'].quantile(0.90)/pwt_subset['y_hk_pw'].quantile(0.10)\n",
    "ypw_p90_p10_ratio,yhk_pw_p90_p10_ratio"
   ]
  },
  {
   "cell_type": "code",
   "execution_count": 75,
   "id": "c65fe924",
   "metadata": {},
   "outputs": [
    {
     "data": {
      "text/plain": [
       "(2.189282284743125, 1.5282903739752431)"
      ]
     },
     "execution_count": 75,
     "metadata": {},
     "output_type": "execute_result"
    }
   ],
   "source": [
    "ypw_p75_p25_ratio    = pwt_subset['GDP_pw'].quantile(0.75)/pwt_subset['GDP_pw'].quantile(0.25)\n",
    "yhk_pw_p75_p25_ratio = pwt_subset['y_hk_pw'].quantile(0.75)/pwt_subset['y_hk_pw'].quantile(0.25)\n",
    "ypw_p75_p25_ratio,yhk_pw_p75_p25_ratio"
   ]
  },
  {
   "cell_type": "markdown",
   "id": "b9d65911",
   "metadata": {},
   "source": [
    "## GDP per worker: Measures of Success"
   ]
  },
  {
   "cell_type": "code",
   "execution_count": 83,
   "id": "38c9b7af",
   "metadata": {},
   "outputs": [
    {
     "data": {
      "text/plain": [
       "0.9514283152249015"
      ]
     },
     "execution_count": 83,
     "metadata": {},
     "output_type": "execute_result"
    }
   ],
   "source": [
    "success1_pw = log_var_y_hk_pw/log_var_y_pw\n",
    "success1_pw"
   ]
  },
  {
   "cell_type": "code",
   "execution_count": 84,
   "id": "befef4e9",
   "metadata": {},
   "outputs": [
    {
     "data": {
      "text/plain": [
       "0.9619409012291797"
      ]
     },
     "execution_count": 84,
     "metadata": {},
     "output_type": "execute_result"
    }
   ],
   "source": [
    "success1_pw_99_01 = yhk_pw_p99_p01_ratio/ypw_p99_p01_ratio\n",
    "success1_pw_99_01"
   ]
  },
  {
   "cell_type": "code",
   "execution_count": 85,
   "id": "2337324a",
   "metadata": {},
   "outputs": [
    {
     "data": {
      "text/plain": [
       "0.5566830869649416"
      ]
     },
     "execution_count": 85,
     "metadata": {},
     "output_type": "execute_result"
    }
   ],
   "source": [
    "success1_pw_95_05 = yhk_pw_p95_p05_ratio/ypw_p95_p05_ratio\n",
    "success1_pw_95_05"
   ]
  },
  {
   "cell_type": "code",
   "execution_count": 86,
   "id": "a3941853",
   "metadata": {},
   "outputs": [
    {
     "data": {
      "text/plain": [
       "0.7530584002799079"
      ]
     },
     "execution_count": 86,
     "metadata": {},
     "output_type": "execute_result"
    }
   ],
   "source": [
    "success1_pw_90_10 = yhk_pw_p90_p10_ratio/ypw_p90_p10_ratio\n",
    "success1_pw_90_10"
   ]
  },
  {
   "cell_type": "code",
   "execution_count": 87,
   "id": "138494da",
   "metadata": {},
   "outputs": [
    {
     "data": {
      "text/plain": [
       "0.6980782627373984"
      ]
     },
     "execution_count": 87,
     "metadata": {},
     "output_type": "execute_result"
    }
   ],
   "source": [
    "success1_pw_75_25 = yhk_pw_p75_p25_ratio/ypw_p75_p25_ratio\n",
    "success1_pw_75_25"
   ]
  },
  {
   "cell_type": "markdown",
   "id": "e61d4726",
   "metadata": {},
   "source": [
    "Factors of production explain 95% of the variance in income per worker!"
   ]
  },
  {
   "cell_type": "markdown",
   "id": "d2f1812a",
   "metadata": {},
   "source": [
    "If we perform the analysis removing countries with very high or very low values (p99 and p01, p95 and p05, p90 and p10) we get that factors of production explain between 55% and 96% of cross country income differences. However, the measures of success are non-monotonic with respect to the inclusion of extreme values."
   ]
  },
  {
   "cell_type": "markdown",
   "id": "fa7c2c8f",
   "metadata": {},
   "source": [
    "## Disecting the Measure of Success"
   ]
  },
  {
   "cell_type": "markdown",
   "id": "73b2dea2",
   "metadata": {},
   "source": [
    "###  1. Shuting Down the Variation in Labour Shares"
   ]
  },
  {
   "cell_type": "markdown",
   "id": "c5dbe1eb",
   "metadata": {},
   "source": [
    "We start by recalculating the measures of success but shitting down the variation in labour shares. We do two alternative calculations:\n",
    "\n",
    " * **Alternative 1**: Fix the labour share at 2/3, the most widely used value for in the literature\n",
    " * **Alternative 2**: Fix the labour share at the median of the pwt sample in 2019: 0.56"
   ]
  },
  {
   "cell_type": "code",
   "execution_count": 88,
   "id": "e3948a7a",
   "metadata": {},
   "outputs": [],
   "source": [
    "pwt_subset['y_hk_pw_alt1'] = (pwt_subset['cn']**(1/3))*((pwt_subset['emp']*pwt_subset['avh']*pwt_subset['hc'])**(2/3))\n",
    "pwt_subset['y_hk_pw_alt1'] = pwt_subset['y_hk_pw_alt1']/pwt_subset['emp']"
   ]
  },
  {
   "cell_type": "code",
   "execution_count": 89,
   "id": "1463e600",
   "metadata": {},
   "outputs": [
    {
     "data": {
      "text/plain": [
       "17.138250661223427"
      ]
     },
     "execution_count": 89,
     "metadata": {},
     "output_type": "execute_result"
    }
   ],
   "source": [
    "log_var_y_hk_pw_alt1 = np.log(np.var(pwt_subset['y_hk_pw_alt1']))\n",
    "log_var_y_hk_pw_alt1"
   ]
  },
  {
   "cell_type": "code",
   "execution_count": 222,
   "id": "46cc9a38",
   "metadata": {},
   "outputs": [],
   "source": [
    "success1_pw_alt1 = log_var_y_hk_pw_alt1/log_var_y_pw"
   ]
  },
  {
   "cell_type": "code",
   "execution_count": 220,
   "id": "5739a21c",
   "metadata": {},
   "outputs": [
    {
     "name": "stdout",
     "output_type": "stream",
     "text": [
      "The Measure of Success Under *Alternative 1* is:\n"
     ]
    },
    {
     "data": {
      "text/plain": [
       "0.82"
      ]
     },
     "execution_count": 220,
     "metadata": {},
     "output_type": "execute_result"
    }
   ],
   "source": [
    "print(\"The Measure of Success Under *Alternative 1* is:\") \n",
    "success1_pw_alt1.round(2)"
   ]
  },
  {
   "cell_type": "code",
   "execution_count": 226,
   "id": "1fb42923",
   "metadata": {},
   "outputs": [
    {
     "data": {
      "text/plain": [
       "0.8631578947368421"
      ]
     },
     "execution_count": 226,
     "metadata": {},
     "output_type": "execute_result"
    }
   ],
   "source": [
    "0.82/0.95"
   ]
  },
  {
   "cell_type": "code",
   "execution_count": 92,
   "id": "23243ef5",
   "metadata": {},
   "outputs": [],
   "source": [
    "pwt_subset['y_hk_pw_alt2'] = (pwt_subset['cn']**(1-0.56))*((pwt_subset['emp']*pwt_subset['avh']*pwt_subset['hc'])**(0.56))\n",
    "pwt_subset['y_hk_pw_alt2'] = pwt_subset['y_hk_pw_alt2']/pwt_subset['emp']"
   ]
  },
  {
   "cell_type": "code",
   "execution_count": 223,
   "id": "fdaee4f5",
   "metadata": {},
   "outputs": [
    {
     "data": {
      "text/plain": [
       "18.37"
      ]
     },
     "execution_count": 223,
     "metadata": {},
     "output_type": "execute_result"
    }
   ],
   "source": [
    "log_var_y_hk_pw_alt2 = np.log(np.var(pwt_subset['y_hk_pw_alt2']))\n",
    "log_var_y_hk_pw_alt2.round(2)"
   ]
  },
  {
   "cell_type": "code",
   "execution_count": 224,
   "id": "4cf9f0ea",
   "metadata": {},
   "outputs": [],
   "source": [
    "success1_pw_alt2 = log_var_y_hk_pw_alt2/log_var_y_pw"
   ]
  },
  {
   "cell_type": "code",
   "execution_count": 225,
   "id": "4bcdd5d2",
   "metadata": {},
   "outputs": [
    {
     "name": "stdout",
     "output_type": "stream",
     "text": [
      "The Measure of Success Under *Alternative 2* is:\n"
     ]
    },
    {
     "data": {
      "text/plain": [
       "0.88"
      ]
     },
     "execution_count": 225,
     "metadata": {},
     "output_type": "execute_result"
    }
   ],
   "source": [
    "print(\"The Measure of Success Under *Alternative 2* is:\") \n",
    "success1_pw_alt2.round(2)"
   ]
  },
  {
   "cell_type": "markdown",
   "id": "31681793",
   "metadata": {},
   "source": [
    "We choose **Alternative 1** to err on the conservative side. Shutting down the variability coming from differentials in factor intensities, we find that factors of production explain 81% of the variance in output per worker across countries."
   ]
  },
  {
   "cell_type": "markdown",
   "id": "f332b868",
   "metadata": {},
   "source": [
    "### Variance Decomposition"
   ]
  },
  {
   "cell_type": "markdown",
   "id": "fc4358c3",
   "metadata": {},
   "source": [
    "To perform a full variance decomposition we need to calculate a few moments first."
   ]
  },
  {
   "cell_type": "code",
   "execution_count": 185,
   "id": "703c711a",
   "metadata": {},
   "outputs": [
    {
     "data": {
      "text/plain": [
       "0.06292096900033263"
      ]
     },
     "execution_count": 185,
     "metadata": {},
     "output_type": "execute_result"
    }
   ],
   "source": [
    "var_log_y_hk     = np.var(np.log(pwt_subset['y_hk_pw_alt1']))\n",
    "var_log_y_hk"
   ]
  },
  {
   "cell_type": "code",
   "execution_count": 186,
   "id": "71fb9fbf",
   "metadata": {},
   "outputs": [],
   "source": [
    "var_log_k     = np.var(np.log(pwt_subset['k']))"
   ]
  },
  {
   "cell_type": "code",
   "execution_count": 187,
   "id": "8af37bb7",
   "metadata": {},
   "outputs": [],
   "source": [
    "var_log_avh   = np.var(np.log(pwt_subset['avh']))"
   ]
  },
  {
   "cell_type": "code",
   "execution_count": 188,
   "id": "542a452e",
   "metadata": {},
   "outputs": [],
   "source": [
    "var_log_h     = np.var(np.log(pwt_subset['hc']))"
   ]
  },
  {
   "cell_type": "code",
   "execution_count": 189,
   "id": "0a85ec48",
   "metadata": {},
   "outputs": [],
   "source": [
    "cov_log_avh_h = np.cov(np.log(pwt_subset['avh']),np.log(pwt_subset['hc']))[0][1]"
   ]
  },
  {
   "cell_type": "code",
   "execution_count": 190,
   "id": "81e70ba2",
   "metadata": {},
   "outputs": [],
   "source": [
    "cov_log_k_h   = np.cov(np.log(pwt_subset['k']),np.log(pwt_subset['hc']))[0][1]"
   ]
  },
  {
   "cell_type": "code",
   "execution_count": 191,
   "id": "79592d14",
   "metadata": {},
   "outputs": [],
   "source": [
    "cov_log_k_avh = np.cov(np.log(pwt_subset['k']),np.log(pwt_subset['avh']))[0][1]"
   ]
  },
  {
   "cell_type": "code",
   "execution_count": 192,
   "id": "8ccb1f83",
   "metadata": {},
   "outputs": [],
   "source": [
    "α             = 1/3"
   ]
  },
  {
   "cell_type": "code",
   "execution_count": 193,
   "id": "558681ce",
   "metadata": {},
   "outputs": [
    {
     "data": {
      "text/plain": [
       "0.7610496429649978"
      ]
     },
     "execution_count": 193,
     "metadata": {},
     "output_type": "execute_result"
    }
   ],
   "source": [
    "((α**2)*var_log_k)/var_log_y_hk"
   ]
  },
  {
   "cell_type": "code",
   "execution_count": 194,
   "id": "c23f47b2",
   "metadata": {},
   "outputs": [
    {
     "data": {
      "text/plain": [
       "0.12417534709460554"
      ]
     },
     "execution_count": 194,
     "metadata": {},
     "output_type": "execute_result"
    }
   ],
   "source": [
    "(((1-α)**2)*var_log_avh)/var_log_y_hk"
   ]
  },
  {
   "cell_type": "code",
   "execution_count": 195,
   "id": "f9b03c65",
   "metadata": {},
   "outputs": [
    {
     "data": {
      "text/plain": [
       "0.13355037864726207"
      ]
     },
     "execution_count": 195,
     "metadata": {},
     "output_type": "execute_result"
    }
   ],
   "source": [
    "(((1-α)**2)*var_log_h)/var_log_y_hk"
   ]
  },
  {
   "cell_type": "code",
   "execution_count": 196,
   "id": "aacb84e1",
   "metadata": {},
   "outputs": [
    {
     "data": {
      "text/plain": [
       "-0.0976768487221539"
      ]
     },
     "execution_count": 196,
     "metadata": {},
     "output_type": "execute_result"
    }
   ],
   "source": [
    "(2*((1-α)**2)*cov_log_avh_h)/var_log_y_hk"
   ]
  },
  {
   "cell_type": "code",
   "execution_count": 197,
   "id": "d9adefb5",
   "metadata": {},
   "outputs": [
    {
     "data": {
      "text/plain": [
       "0.3843404157028929"
      ]
     },
     "execution_count": 197,
     "metadata": {},
     "output_type": "execute_result"
    }
   ],
   "source": [
    "(2*α*(1-α)*cov_log_k_h)/var_log_y_hk"
   ]
  },
  {
   "cell_type": "code",
   "execution_count": 198,
   "id": "c69798fd",
   "metadata": {},
   "outputs": [
    {
     "data": {
      "text/plain": [
       "-0.30575185849938435"
      ]
     },
     "execution_count": 198,
     "metadata": {},
     "output_type": "execute_result"
    }
   ],
   "source": [
    "(2*α*(1-α)*cov_log_k_avh)/var_log_y_hk"
   ]
  },
  {
   "cell_type": "code",
   "execution_count": 200,
   "id": "305ad8a3",
   "metadata": {},
   "outputs": [],
   "source": [
    "total_variation = np.abs(((α**2)*var_log_k)) + np.abs((((1-α)**2)*var_log_avh)) + np.abs((((1-α)**2)*var_log_h)) + np.abs((2*((1-α)**2)*cov_log_avh_h)) + np.abs((2*α*(1-α)*cov_log_k_h)) + np.abs((2*α*(1-α)*cov_log_k_avh))"
   ]
  },
  {
   "cell_type": "code",
   "execution_count": 218,
   "id": "67e3e392",
   "metadata": {},
   "outputs": [
    {
     "data": {
      "text/plain": [
       "0.11"
      ]
     },
     "execution_count": 218,
     "metadata": {},
     "output_type": "execute_result"
    }
   ],
   "source": [
    "total_variation.round(2)"
   ]
  },
  {
   "cell_type": "code",
   "execution_count": 203,
   "id": "0923d36a",
   "metadata": {},
   "outputs": [],
   "source": [
    "#The share of the total variation given by capital per worker is"
   ]
  },
  {
   "cell_type": "code",
   "execution_count": 212,
   "id": "5e2add79",
   "metadata": {},
   "outputs": [
    {
     "data": {
      "text/plain": [
       "0.42"
      ]
     },
     "execution_count": 212,
     "metadata": {},
     "output_type": "execute_result"
    }
   ],
   "source": [
    "(np.abs(((α**2)*var_log_k))/total_variation).round(2)"
   ]
  },
  {
   "cell_type": "code",
   "execution_count": 213,
   "id": "0edd8ef8",
   "metadata": {},
   "outputs": [
    {
     "data": {
      "text/plain": [
       "0.07"
      ]
     },
     "execution_count": 213,
     "metadata": {},
     "output_type": "execute_result"
    }
   ],
   "source": [
    "#The share of the total variation given by hours worked is\n",
    "(np.abs((((1-α)**2)*var_log_avh))/total_variation).round(2)"
   ]
  },
  {
   "cell_type": "code",
   "execution_count": 214,
   "id": "61574a78",
   "metadata": {},
   "outputs": [
    {
     "data": {
      "text/plain": [
       "0.07"
      ]
     },
     "execution_count": 214,
     "metadata": {},
     "output_type": "execute_result"
    }
   ],
   "source": [
    "#The share of the total variation given by hours worked is\n",
    "(np.abs((((1-α)**2)*var_log_h))/total_variation).round(2)"
   ]
  },
  {
   "cell_type": "code",
   "execution_count": 215,
   "id": "4c3d2e1b",
   "metadata": {},
   "outputs": [
    {
     "data": {
      "text/plain": [
       "0.05"
      ]
     },
     "execution_count": 215,
     "metadata": {},
     "output_type": "execute_result"
    }
   ],
   "source": [
    "#The share of the total variation given by the interaction between hours worked and human capital\n",
    "(np.abs((2*((1-α)**2)*cov_log_avh_h))/total_variation).round(2)"
   ]
  },
  {
   "cell_type": "code",
   "execution_count": 216,
   "id": "f583dc1d",
   "metadata": {},
   "outputs": [
    {
     "data": {
      "text/plain": [
       "0.21"
      ]
     },
     "execution_count": 216,
     "metadata": {},
     "output_type": "execute_result"
    }
   ],
   "source": [
    "#The share of the total variation given by the interaction between capital and human capital\n",
    "(np.abs((2*α*(1-α)*cov_log_k_h))/total_variation).round(2)"
   ]
  },
  {
   "cell_type": "code",
   "execution_count": 217,
   "id": "345ba9f4",
   "metadata": {},
   "outputs": [
    {
     "data": {
      "text/plain": [
       "0.17"
      ]
     },
     "execution_count": 217,
     "metadata": {},
     "output_type": "execute_result"
    }
   ],
   "source": [
    "#The share of the total variation given by the interaction between capital and hours worked is\n",
    "(np.abs((2*α*(1-α)*cov_log_k_avh))/total_variation).round(2)"
   ]
  },
  {
   "cell_type": "markdown",
   "id": "ab020f7e",
   "metadata": {},
   "source": [
    "## Conclusion"
   ]
  },
  {
   "cell_type": "markdown",
   "id": "290cb3a0",
   "metadata": {},
   "source": [
    "We perform a development accounting exercise ala Caselli, using PWT 10.0. We find that:\n",
    "\n",
    " * Factors of production explain 95% of the variation in income per worker\n",
    "       * Out of that total variation, 86% is driven by pure factors of production, like capital, human capital, and hours worked, while the remaining 14% is explained by differences in factor shares across countries.\n",
    "       * Within factors of production, differences in capital per worker explain 42% of the total variation, while human capital and hours account for 7% each.\n",
    "       * We find that richer countries tend to have both higher levels of physical and human capital, with the joint comovement between these two factors of production explaining 21% of the share of income explained by factors only.\n",
    "       * Moreover, rich countries tend to have higher levels of physical capital and lower levels of hours worked per worker, which reduces the total varition driven by factors of production, helping to explain 17% of the variation that is purely driven by productive factors\n",
    "       * A remaining 5% of the total income differences explained by production factors is driven by the fact that in countries with higher levels of human capital workers tend to work fewer hours."
   ]
  },
  {
   "cell_type": "code",
   "execution_count": null,
   "id": "742daa22",
   "metadata": {},
   "outputs": [],
   "source": []
  }
 ],
 "metadata": {
  "kernelspec": {
   "display_name": "Python 3 (ipykernel)",
   "language": "python",
   "name": "python3"
  },
  "language_info": {
   "codemirror_mode": {
    "name": "ipython",
    "version": 3
   },
   "file_extension": ".py",
   "mimetype": "text/x-python",
   "name": "python",
   "nbconvert_exporter": "python",
   "pygments_lexer": "ipython3",
   "version": "3.9.12"
  }
 },
 "nbformat": 4,
 "nbformat_minor": 5
}
