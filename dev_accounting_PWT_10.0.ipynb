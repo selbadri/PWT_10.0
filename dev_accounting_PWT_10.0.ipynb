{
 "cells": [
  {
   "cell_type": "code",
   "execution_count": 1,
   "id": "ab6767d3",
   "metadata": {},
   "outputs": [],
   "source": [
    "import pandas as pd\n",
    "import numpy as np\n",
    "import matplotlib.pyplot as plt"
   ]
  },
  {
   "cell_type": "code",
   "execution_count": 2,
   "id": "6535f081",
   "metadata": {},
   "outputs": [
    {
     "data": {
      "text/html": [
       "<div>\n",
       "<style scoped>\n",
       "    .dataframe tbody tr th:only-of-type {\n",
       "        vertical-align: middle;\n",
       "    }\n",
       "\n",
       "    .dataframe tbody tr th {\n",
       "        vertical-align: top;\n",
       "    }\n",
       "\n",
       "    .dataframe thead th {\n",
       "        text-align: right;\n",
       "    }\n",
       "</style>\n",
       "<table border=\"1\" class=\"dataframe\">\n",
       "  <thead>\n",
       "    <tr style=\"text-align: right;\">\n",
       "      <th></th>\n",
       "      <th>countrycode</th>\n",
       "      <th>country</th>\n",
       "      <th>currency_unit</th>\n",
       "      <th>year</th>\n",
       "      <th>rgdpe</th>\n",
       "      <th>rgdpo</th>\n",
       "      <th>pop</th>\n",
       "      <th>emp</th>\n",
       "      <th>avh</th>\n",
       "      <th>hc</th>\n",
       "      <th>...</th>\n",
       "      <th>csh_x</th>\n",
       "      <th>csh_m</th>\n",
       "      <th>csh_r</th>\n",
       "      <th>pl_c</th>\n",
       "      <th>pl_i</th>\n",
       "      <th>pl_g</th>\n",
       "      <th>pl_x</th>\n",
       "      <th>pl_m</th>\n",
       "      <th>pl_n</th>\n",
       "      <th>pl_k</th>\n",
       "    </tr>\n",
       "  </thead>\n",
       "  <tbody>\n",
       "    <tr>\n",
       "      <th>0</th>\n",
       "      <td>ABW</td>\n",
       "      <td>Aruba</td>\n",
       "      <td>Aruban Guilder</td>\n",
       "      <td>1950</td>\n",
       "      <td>NaN</td>\n",
       "      <td>NaN</td>\n",
       "      <td>NaN</td>\n",
       "      <td>NaN</td>\n",
       "      <td>NaN</td>\n",
       "      <td>NaN</td>\n",
       "      <td>...</td>\n",
       "      <td>NaN</td>\n",
       "      <td>NaN</td>\n",
       "      <td>NaN</td>\n",
       "      <td>NaN</td>\n",
       "      <td>NaN</td>\n",
       "      <td>NaN</td>\n",
       "      <td>NaN</td>\n",
       "      <td>NaN</td>\n",
       "      <td>NaN</td>\n",
       "      <td>NaN</td>\n",
       "    </tr>\n",
       "    <tr>\n",
       "      <th>1</th>\n",
       "      <td>ABW</td>\n",
       "      <td>Aruba</td>\n",
       "      <td>Aruban Guilder</td>\n",
       "      <td>1951</td>\n",
       "      <td>NaN</td>\n",
       "      <td>NaN</td>\n",
       "      <td>NaN</td>\n",
       "      <td>NaN</td>\n",
       "      <td>NaN</td>\n",
       "      <td>NaN</td>\n",
       "      <td>...</td>\n",
       "      <td>NaN</td>\n",
       "      <td>NaN</td>\n",
       "      <td>NaN</td>\n",
       "      <td>NaN</td>\n",
       "      <td>NaN</td>\n",
       "      <td>NaN</td>\n",
       "      <td>NaN</td>\n",
       "      <td>NaN</td>\n",
       "      <td>NaN</td>\n",
       "      <td>NaN</td>\n",
       "    </tr>\n",
       "    <tr>\n",
       "      <th>2</th>\n",
       "      <td>ABW</td>\n",
       "      <td>Aruba</td>\n",
       "      <td>Aruban Guilder</td>\n",
       "      <td>1952</td>\n",
       "      <td>NaN</td>\n",
       "      <td>NaN</td>\n",
       "      <td>NaN</td>\n",
       "      <td>NaN</td>\n",
       "      <td>NaN</td>\n",
       "      <td>NaN</td>\n",
       "      <td>...</td>\n",
       "      <td>NaN</td>\n",
       "      <td>NaN</td>\n",
       "      <td>NaN</td>\n",
       "      <td>NaN</td>\n",
       "      <td>NaN</td>\n",
       "      <td>NaN</td>\n",
       "      <td>NaN</td>\n",
       "      <td>NaN</td>\n",
       "      <td>NaN</td>\n",
       "      <td>NaN</td>\n",
       "    </tr>\n",
       "    <tr>\n",
       "      <th>3</th>\n",
       "      <td>ABW</td>\n",
       "      <td>Aruba</td>\n",
       "      <td>Aruban Guilder</td>\n",
       "      <td>1953</td>\n",
       "      <td>NaN</td>\n",
       "      <td>NaN</td>\n",
       "      <td>NaN</td>\n",
       "      <td>NaN</td>\n",
       "      <td>NaN</td>\n",
       "      <td>NaN</td>\n",
       "      <td>...</td>\n",
       "      <td>NaN</td>\n",
       "      <td>NaN</td>\n",
       "      <td>NaN</td>\n",
       "      <td>NaN</td>\n",
       "      <td>NaN</td>\n",
       "      <td>NaN</td>\n",
       "      <td>NaN</td>\n",
       "      <td>NaN</td>\n",
       "      <td>NaN</td>\n",
       "      <td>NaN</td>\n",
       "    </tr>\n",
       "    <tr>\n",
       "      <th>4</th>\n",
       "      <td>ABW</td>\n",
       "      <td>Aruba</td>\n",
       "      <td>Aruban Guilder</td>\n",
       "      <td>1954</td>\n",
       "      <td>NaN</td>\n",
       "      <td>NaN</td>\n",
       "      <td>NaN</td>\n",
       "      <td>NaN</td>\n",
       "      <td>NaN</td>\n",
       "      <td>NaN</td>\n",
       "      <td>...</td>\n",
       "      <td>NaN</td>\n",
       "      <td>NaN</td>\n",
       "      <td>NaN</td>\n",
       "      <td>NaN</td>\n",
       "      <td>NaN</td>\n",
       "      <td>NaN</td>\n",
       "      <td>NaN</td>\n",
       "      <td>NaN</td>\n",
       "      <td>NaN</td>\n",
       "      <td>NaN</td>\n",
       "    </tr>\n",
       "    <tr>\n",
       "      <th>...</th>\n",
       "      <td>...</td>\n",
       "      <td>...</td>\n",
       "      <td>...</td>\n",
       "      <td>...</td>\n",
       "      <td>...</td>\n",
       "      <td>...</td>\n",
       "      <td>...</td>\n",
       "      <td>...</td>\n",
       "      <td>...</td>\n",
       "      <td>...</td>\n",
       "      <td>...</td>\n",
       "      <td>...</td>\n",
       "      <td>...</td>\n",
       "      <td>...</td>\n",
       "      <td>...</td>\n",
       "      <td>...</td>\n",
       "      <td>...</td>\n",
       "      <td>...</td>\n",
       "      <td>...</td>\n",
       "      <td>...</td>\n",
       "      <td>...</td>\n",
       "    </tr>\n",
       "    <tr>\n",
       "      <th>12805</th>\n",
       "      <td>ZWE</td>\n",
       "      <td>Zimbabwe</td>\n",
       "      <td>US Dollar</td>\n",
       "      <td>2015</td>\n",
       "      <td>40141.61719</td>\n",
       "      <td>39798.64453</td>\n",
       "      <td>13.814629</td>\n",
       "      <td>6.393752</td>\n",
       "      <td>NaN</td>\n",
       "      <td>2.584653</td>\n",
       "      <td>...</td>\n",
       "      <td>0.140172</td>\n",
       "      <td>-0.287693</td>\n",
       "      <td>-0.051930</td>\n",
       "      <td>0.479228</td>\n",
       "      <td>0.651287</td>\n",
       "      <td>0.541446</td>\n",
       "      <td>0.616689</td>\n",
       "      <td>0.533235</td>\n",
       "      <td>0.422764</td>\n",
       "      <td>1.533909</td>\n",
       "    </tr>\n",
       "    <tr>\n",
       "      <th>12806</th>\n",
       "      <td>ZWE</td>\n",
       "      <td>Zimbabwe</td>\n",
       "      <td>US Dollar</td>\n",
       "      <td>2016</td>\n",
       "      <td>41875.20313</td>\n",
       "      <td>40963.19141</td>\n",
       "      <td>14.030331</td>\n",
       "      <td>6.504374</td>\n",
       "      <td>NaN</td>\n",
       "      <td>2.616257</td>\n",
       "      <td>...</td>\n",
       "      <td>0.131920</td>\n",
       "      <td>-0.251232</td>\n",
       "      <td>-0.016258</td>\n",
       "      <td>0.470640</td>\n",
       "      <td>0.651027</td>\n",
       "      <td>0.539631</td>\n",
       "      <td>0.619789</td>\n",
       "      <td>0.519718</td>\n",
       "      <td>0.416510</td>\n",
       "      <td>1.491724</td>\n",
       "    </tr>\n",
       "    <tr>\n",
       "      <th>12807</th>\n",
       "      <td>ZWE</td>\n",
       "      <td>Zimbabwe</td>\n",
       "      <td>US Dollar</td>\n",
       "      <td>2017</td>\n",
       "      <td>44672.17578</td>\n",
       "      <td>44316.74219</td>\n",
       "      <td>14.236595</td>\n",
       "      <td>6.611773</td>\n",
       "      <td>NaN</td>\n",
       "      <td>2.648248</td>\n",
       "      <td>...</td>\n",
       "      <td>0.126722</td>\n",
       "      <td>-0.202827</td>\n",
       "      <td>-0.039897</td>\n",
       "      <td>0.473560</td>\n",
       "      <td>0.639560</td>\n",
       "      <td>0.519956</td>\n",
       "      <td>0.619739</td>\n",
       "      <td>0.552042</td>\n",
       "      <td>0.415592</td>\n",
       "      <td>1.514525</td>\n",
       "    </tr>\n",
       "    <tr>\n",
       "      <th>12808</th>\n",
       "      <td>ZWE</td>\n",
       "      <td>Zimbabwe</td>\n",
       "      <td>US Dollar</td>\n",
       "      <td>2018</td>\n",
       "      <td>44325.10938</td>\n",
       "      <td>43420.89844</td>\n",
       "      <td>14.438802</td>\n",
       "      <td>6.714952</td>\n",
       "      <td>NaN</td>\n",
       "      <td>2.680630</td>\n",
       "      <td>...</td>\n",
       "      <td>0.144485</td>\n",
       "      <td>-0.263658</td>\n",
       "      <td>-0.020791</td>\n",
       "      <td>0.543757</td>\n",
       "      <td>0.655473</td>\n",
       "      <td>0.529867</td>\n",
       "      <td>0.641361</td>\n",
       "      <td>0.561526</td>\n",
       "      <td>0.425143</td>\n",
       "      <td>1.590120</td>\n",
       "    </tr>\n",
       "    <tr>\n",
       "      <th>12809</th>\n",
       "      <td>ZWE</td>\n",
       "      <td>Zimbabwe</td>\n",
       "      <td>US Dollar</td>\n",
       "      <td>2019</td>\n",
       "      <td>42296.06250</td>\n",
       "      <td>40826.57031</td>\n",
       "      <td>14.645468</td>\n",
       "      <td>6.831017</td>\n",
       "      <td>NaN</td>\n",
       "      <td>2.713408</td>\n",
       "      <td>...</td>\n",
       "      <td>0.213562</td>\n",
       "      <td>-0.270959</td>\n",
       "      <td>-0.089798</td>\n",
       "      <td>0.494755</td>\n",
       "      <td>0.652439</td>\n",
       "      <td>0.500927</td>\n",
       "      <td>0.487763</td>\n",
       "      <td>0.430082</td>\n",
       "      <td>0.420675</td>\n",
       "      <td>1.384068</td>\n",
       "    </tr>\n",
       "  </tbody>\n",
       "</table>\n",
       "<p>12810 rows × 52 columns</p>\n",
       "</div>"
      ],
      "text/plain": [
       "      countrycode   country   currency_unit  year        rgdpe        rgdpo  \\\n",
       "0             ABW     Aruba  Aruban Guilder  1950          NaN          NaN   \n",
       "1             ABW     Aruba  Aruban Guilder  1951          NaN          NaN   \n",
       "2             ABW     Aruba  Aruban Guilder  1952          NaN          NaN   \n",
       "3             ABW     Aruba  Aruban Guilder  1953          NaN          NaN   \n",
       "4             ABW     Aruba  Aruban Guilder  1954          NaN          NaN   \n",
       "...           ...       ...             ...   ...          ...          ...   \n",
       "12805         ZWE  Zimbabwe       US Dollar  2015  40141.61719  39798.64453   \n",
       "12806         ZWE  Zimbabwe       US Dollar  2016  41875.20313  40963.19141   \n",
       "12807         ZWE  Zimbabwe       US Dollar  2017  44672.17578  44316.74219   \n",
       "12808         ZWE  Zimbabwe       US Dollar  2018  44325.10938  43420.89844   \n",
       "12809         ZWE  Zimbabwe       US Dollar  2019  42296.06250  40826.57031   \n",
       "\n",
       "             pop       emp  avh        hc  ...     csh_x     csh_m     csh_r  \\\n",
       "0            NaN       NaN  NaN       NaN  ...       NaN       NaN       NaN   \n",
       "1            NaN       NaN  NaN       NaN  ...       NaN       NaN       NaN   \n",
       "2            NaN       NaN  NaN       NaN  ...       NaN       NaN       NaN   \n",
       "3            NaN       NaN  NaN       NaN  ...       NaN       NaN       NaN   \n",
       "4            NaN       NaN  NaN       NaN  ...       NaN       NaN       NaN   \n",
       "...          ...       ...  ...       ...  ...       ...       ...       ...   \n",
       "12805  13.814629  6.393752  NaN  2.584653  ...  0.140172 -0.287693 -0.051930   \n",
       "12806  14.030331  6.504374  NaN  2.616257  ...  0.131920 -0.251232 -0.016258   \n",
       "12807  14.236595  6.611773  NaN  2.648248  ...  0.126722 -0.202827 -0.039897   \n",
       "12808  14.438802  6.714952  NaN  2.680630  ...  0.144485 -0.263658 -0.020791   \n",
       "12809  14.645468  6.831017  NaN  2.713408  ...  0.213562 -0.270959 -0.089798   \n",
       "\n",
       "           pl_c      pl_i      pl_g      pl_x      pl_m      pl_n      pl_k  \n",
       "0           NaN       NaN       NaN       NaN       NaN       NaN       NaN  \n",
       "1           NaN       NaN       NaN       NaN       NaN       NaN       NaN  \n",
       "2           NaN       NaN       NaN       NaN       NaN       NaN       NaN  \n",
       "3           NaN       NaN       NaN       NaN       NaN       NaN       NaN  \n",
       "4           NaN       NaN       NaN       NaN       NaN       NaN       NaN  \n",
       "...         ...       ...       ...       ...       ...       ...       ...  \n",
       "12805  0.479228  0.651287  0.541446  0.616689  0.533235  0.422764  1.533909  \n",
       "12806  0.470640  0.651027  0.539631  0.619789  0.519718  0.416510  1.491724  \n",
       "12807  0.473560  0.639560  0.519956  0.619739  0.552042  0.415592  1.514525  \n",
       "12808  0.543757  0.655473  0.529867  0.641361  0.561526  0.425143  1.590120  \n",
       "12809  0.494755  0.652439  0.500927  0.487763  0.430082  0.420675  1.384068  \n",
       "\n",
       "[12810 rows x 52 columns]"
      ]
     },
     "execution_count": 2,
     "metadata": {},
     "output_type": "execute_result"
    }
   ],
   "source": [
    "#Load the Data\n",
    "pwt = pd.read_csv('https://raw.githubusercontent.com/jivizcaino/PWT_10.0/main/pwt100.csv', encoding=\"latin-1\")\n",
    "pwt"
   ]
  },
  {
   "cell_type": "code",
   "execution_count": 5,
   "id": "07e791d8",
   "metadata": {},
   "outputs": [
    {
     "data": {
      "text/html": [
       "<div>\n",
       "<style scoped>\n",
       "    .dataframe tbody tr th:only-of-type {\n",
       "        vertical-align: middle;\n",
       "    }\n",
       "\n",
       "    .dataframe tbody tr th {\n",
       "        vertical-align: top;\n",
       "    }\n",
       "\n",
       "    .dataframe thead th {\n",
       "        text-align: right;\n",
       "    }\n",
       "</style>\n",
       "<table border=\"1\" class=\"dataframe\">\n",
       "  <thead>\n",
       "    <tr style=\"text-align: right;\">\n",
       "      <th></th>\n",
       "      <th>countrycode</th>\n",
       "      <th>year</th>\n",
       "      <th>cgdpo</th>\n",
       "      <th>pop</th>\n",
       "      <th>emp</th>\n",
       "      <th>avh</th>\n",
       "      <th>hc</th>\n",
       "      <th>cn</th>\n",
       "      <th>labsh</th>\n",
       "      <th>ctfp</th>\n",
       "    </tr>\n",
       "    <tr>\n",
       "      <th>country</th>\n",
       "      <th></th>\n",
       "      <th></th>\n",
       "      <th></th>\n",
       "      <th></th>\n",
       "      <th></th>\n",
       "      <th></th>\n",
       "      <th></th>\n",
       "      <th></th>\n",
       "      <th></th>\n",
       "      <th></th>\n",
       "    </tr>\n",
       "  </thead>\n",
       "  <tbody>\n",
       "    <tr>\n",
       "      <th>Argentina</th>\n",
       "      <td>ARG</td>\n",
       "      <td>2010</td>\n",
       "      <td>768478.2500</td>\n",
       "      <td>40.895752</td>\n",
       "      <td>18.076746</td>\n",
       "      <td>1760.224782</td>\n",
       "      <td>2.830078</td>\n",
       "      <td>2876207.25</td>\n",
       "      <td>0.440692</td>\n",
       "      <td>0.777526</td>\n",
       "    </tr>\n",
       "    <tr>\n",
       "      <th>Argentina</th>\n",
       "      <td>ARG</td>\n",
       "      <td>2011</td>\n",
       "      <td>868765.0625</td>\n",
       "      <td>41.320500</td>\n",
       "      <td>18.488029</td>\n",
       "      <td>1760.230369</td>\n",
       "      <td>2.858542</td>\n",
       "      <td>3099233.75</td>\n",
       "      <td>0.473124</td>\n",
       "      <td>0.828393</td>\n",
       "    </tr>\n",
       "    <tr>\n",
       "      <th>Argentina</th>\n",
       "      <td>ARG</td>\n",
       "      <td>2012</td>\n",
       "      <td>882438.8125</td>\n",
       "      <td>41.755196</td>\n",
       "      <td>18.791292</td>\n",
       "      <td>1736.103360</td>\n",
       "      <td>2.887292</td>\n",
       "      <td>3156028.75</td>\n",
       "      <td>0.520179</td>\n",
       "      <td>0.819774</td>\n",
       "    </tr>\n",
       "    <tr>\n",
       "      <th>Argentina</th>\n",
       "      <td>ARG</td>\n",
       "      <td>2013</td>\n",
       "      <td>885112.9375</td>\n",
       "      <td>42.196030</td>\n",
       "      <td>19.124418</td>\n",
       "      <td>1725.873553</td>\n",
       "      <td>2.916332</td>\n",
       "      <td>3166597.50</td>\n",
       "      <td>0.543918</td>\n",
       "      <td>0.813449</td>\n",
       "    </tr>\n",
       "    <tr>\n",
       "      <th>Argentina</th>\n",
       "      <td>ARG</td>\n",
       "      <td>2014</td>\n",
       "      <td>864304.0000</td>\n",
       "      <td>42.637511</td>\n",
       "      <td>19.383051</td>\n",
       "      <td>1705.428368</td>\n",
       "      <td>2.945663</td>\n",
       "      <td>3204576.50</td>\n",
       "      <td>0.543918</td>\n",
       "      <td>0.781934</td>\n",
       "    </tr>\n",
       "    <tr>\n",
       "      <th>...</th>\n",
       "      <td>...</td>\n",
       "      <td>...</td>\n",
       "      <td>...</td>\n",
       "      <td>...</td>\n",
       "      <td>...</td>\n",
       "      <td>...</td>\n",
       "      <td>...</td>\n",
       "      <td>...</td>\n",
       "      <td>...</td>\n",
       "      <td>...</td>\n",
       "    </tr>\n",
       "    <tr>\n",
       "      <th>South Africa</th>\n",
       "      <td>ZAF</td>\n",
       "      <td>2014</td>\n",
       "      <td>699348.0625</td>\n",
       "      <td>54.544186</td>\n",
       "      <td>16.992683</td>\n",
       "      <td>2209.091467</td>\n",
       "      <td>2.675951</td>\n",
       "      <td>2727571.50</td>\n",
       "      <td>0.552341</td>\n",
       "      <td>0.596181</td>\n",
       "    </tr>\n",
       "    <tr>\n",
       "      <th>South Africa</th>\n",
       "      <td>ZAF</td>\n",
       "      <td>2016</td>\n",
       "      <td>710312.5000</td>\n",
       "      <td>56.207646</td>\n",
       "      <td>17.984968</td>\n",
       "      <td>2218.455068</td>\n",
       "      <td>2.762902</td>\n",
       "      <td>2773613.50</td>\n",
       "      <td>0.568343</td>\n",
       "      <td>0.566500</td>\n",
       "    </tr>\n",
       "    <tr>\n",
       "      <th>South Africa</th>\n",
       "      <td>ZAF</td>\n",
       "      <td>2017</td>\n",
       "      <td>726021.0000</td>\n",
       "      <td>57.009756</td>\n",
       "      <td>18.302843</td>\n",
       "      <td>2197.033263</td>\n",
       "      <td>2.809246</td>\n",
       "      <td>2791243.75</td>\n",
       "      <td>0.570414</td>\n",
       "      <td>0.570064</td>\n",
       "    </tr>\n",
       "    <tr>\n",
       "      <th>South Africa</th>\n",
       "      <td>ZAF</td>\n",
       "      <td>2018</td>\n",
       "      <td>733319.3750</td>\n",
       "      <td>57.792518</td>\n",
       "      <td>18.686357</td>\n",
       "      <td>2191.363362</td>\n",
       "      <td>2.857641</td>\n",
       "      <td>2846327.75</td>\n",
       "      <td>0.570888</td>\n",
       "      <td>0.554365</td>\n",
       "    </tr>\n",
       "    <tr>\n",
       "      <th>South Africa</th>\n",
       "      <td>ZAF</td>\n",
       "      <td>2019</td>\n",
       "      <td>735067.0625</td>\n",
       "      <td>58.558270</td>\n",
       "      <td>18.642710</td>\n",
       "      <td>2191.363362</td>\n",
       "      <td>2.908202</td>\n",
       "      <td>2897706.00</td>\n",
       "      <td>0.570888</td>\n",
       "      <td>0.542998</td>\n",
       "    </tr>\n",
       "  </tbody>\n",
       "</table>\n",
       "<p>608 rows × 10 columns</p>\n",
       "</div>"
      ],
      "text/plain": [
       "             countrycode  year        cgdpo        pop        emp  \\\n",
       "country                                                             \n",
       "Argentina            ARG  2010  768478.2500  40.895752  18.076746   \n",
       "Argentina            ARG  2011  868765.0625  41.320500  18.488029   \n",
       "Argentina            ARG  2012  882438.8125  41.755196  18.791292   \n",
       "Argentina            ARG  2013  885112.9375  42.196030  19.124418   \n",
       "Argentina            ARG  2014  864304.0000  42.637511  19.383051   \n",
       "...                  ...   ...          ...        ...        ...   \n",
       "South Africa         ZAF  2014  699348.0625  54.544186  16.992683   \n",
       "South Africa         ZAF  2016  710312.5000  56.207646  17.984968   \n",
       "South Africa         ZAF  2017  726021.0000  57.009756  18.302843   \n",
       "South Africa         ZAF  2018  733319.3750  57.792518  18.686357   \n",
       "South Africa         ZAF  2019  735067.0625  58.558270  18.642710   \n",
       "\n",
       "                      avh        hc          cn     labsh      ctfp  \n",
       "country                                                              \n",
       "Argentina     1760.224782  2.830078  2876207.25  0.440692  0.777526  \n",
       "Argentina     1760.230369  2.858542  3099233.75  0.473124  0.828393  \n",
       "Argentina     1736.103360  2.887292  3156028.75  0.520179  0.819774  \n",
       "Argentina     1725.873553  2.916332  3166597.50  0.543918  0.813449  \n",
       "Argentina     1705.428368  2.945663  3204576.50  0.543918  0.781934  \n",
       "...                   ...       ...         ...       ...       ...  \n",
       "South Africa  2209.091467  2.675951  2727571.50  0.552341  0.596181  \n",
       "South Africa  2218.455068  2.762902  2773613.50  0.568343  0.566500  \n",
       "South Africa  2197.033263  2.809246  2791243.75  0.570414  0.570064  \n",
       "South Africa  2191.363362  2.857641  2846327.75  0.570888  0.554365  \n",
       "South Africa  2191.363362  2.908202  2897706.00  0.570888  0.542998  \n",
       "\n",
       "[608 rows x 10 columns]"
      ]
     },
     "execution_count": 5,
     "metadata": {},
     "output_type": "execute_result"
    }
   ],
   "source": [
    "#Prepare the Dataset and Clean the Data\n",
    "pwt_subset = pwt[['country','countrycode','year','cgdpo','pop','emp','avh','hc','cn','labsh','ctfp']]\n",
    "pwt_subset = pwt_subset[pwt_subset['year'] > 2009]\n",
    "pwt_subset = pwt_subset.set_index('country')\n",
    "pwt_subset = pwt_subset.dropna()\n",
    "pwt_subset"
   ]
  },
  {
   "cell_type": "code",
   "execution_count": 6,
   "id": "94e9a09a",
   "metadata": {},
   "outputs": [
    {
     "name": "stdout",
     "output_type": "stream",
     "text": [
      "      countrycode  cgdpo  pop  emp  avh  hc  cn  labsh  ctfp\n",
      "year                                                        \n",
      "2010           61     61   61   61   61  61  61     61    61\n",
      "2011           61     61   61   61   61  61  61     61    61\n",
      "2012           61     61   61   61   61  61  61     61    61\n",
      "2013           61     61   61   61   61  61  61     61    61\n",
      "2014           60     60   60   60   60  60  60     60    60\n",
      "2015           60     60   60   60   60  60  60     60    60\n",
      "2016           61     61   61   61   61  61  61     61    61\n",
      "2017           61     61   61   61   61  61  61     61    61\n",
      "2018           61     61   61   61   61  61  61     61    61\n",
      "2019           61     61   61   61   61  61  61     61    61\n"
     ]
    }
   ],
   "source": [
    "#Choosing the Year to Perform the Analysis\n",
    "print(pwt_subset.groupby(\"year\").count()) "
   ]
  },
  {
   "cell_type": "markdown",
   "id": "2da8c6f5",
   "metadata": {},
   "source": [
    "We will choose 2019: the latest year with the largets number of ebservations for our variables of interest.\n",
    "*To Do: Robustness using 2010,2015, and an average for 2010-2019"
   ]
  },
  {
   "cell_type": "code",
   "execution_count": 7,
   "id": "97f283d0",
   "metadata": {},
   "outputs": [
    {
     "name": "stdout",
     "output_type": "stream",
     "text": [
      "         year        cgdpo      pop     emp      avh     hc            cn  \\\n",
      "count    61.0        61.00    61.00   61.00    61.00  61.00  6.100000e+01   \n",
      "mean   2019.0   1766051.39    86.23   40.07  1814.08   3.23  8.117018e+06   \n",
      "std       0.0   3788319.57   252.13  120.07   240.46   0.43  1.636157e+07   \n",
      "min    2019.0     17330.60     0.34    0.19  1380.61   2.17  6.244054e+04   \n",
      "5%     2019.0     45079.35     0.87    0.46  1439.73   2.51  2.194441e+05   \n",
      "10%    2019.0     71310.98     2.08    1.05  1505.56   2.70  3.189460e+05   \n",
      "25%    2019.0    199241.38     5.53    2.85  1611.37   2.90  8.281802e+05   \n",
      "50%    2019.0    496383.50    17.10    8.10  1791.74   3.27  2.566180e+06   \n",
      "75%    2019.0   1862070.00    58.56   25.60  2019.92   3.59  8.721109e+06   \n",
      "90%    2019.0   3120405.75   127.58   69.98  2142.10   3.72  1.885582e+07   \n",
      "95%    2019.0   5031850.00   270.63  131.17  2168.92   3.77  2.610288e+07   \n",
      "max    2019.0  20566034.00  1433.78  798.81  2330.17   4.35  1.015442e+08   \n",
      "\n",
      "       labsh   ctfp  \n",
      "count  61.00  61.00  \n",
      "mean    0.55   0.71  \n",
      "std     0.08   0.16  \n",
      "min     0.32   0.40  \n",
      "5%      0.41   0.44  \n",
      "10%     0.44   0.51  \n",
      "25%     0.52   0.60  \n",
      "50%     0.56   0.72  \n",
      "75%     0.59   0.84  \n",
      "90%     0.64   0.91  \n",
      "95%     0.65   0.94  \n",
      "max     0.68   1.03  \n"
     ]
    }
   ],
   "source": [
    "#Descriptive Statistics for the Variables in our Dataset\n",
    "print(pwt_subset[pwt_subset['year'] == 2019].describe([0.05,0.10,0.25,0.50,0.75,0.90,0.95]).round(2))"
   ]
  },
  {
   "cell_type": "markdown",
   "id": "95eeac96",
   "metadata": {},
   "source": [
    "# Development Accounting"
   ]
  },
  {
   "cell_type": "markdown",
   "id": "02c3ba63",
   "metadata": {},
   "source": [
    "## GDP per worker"
   ]
  },
  {
   "cell_type": "code",
   "execution_count": 9,
   "id": "f2abcd35",
   "metadata": {},
   "outputs": [
    {
     "data": {
      "text/plain": [
       "count       608.00\n",
       "mean      69657.64\n",
       "std       33125.29\n",
       "min       12274.59\n",
       "1%        15415.29\n",
       "5%        22379.67\n",
       "10%       25527.30\n",
       "25%       43599.08\n",
       "50%       66258.26\n",
       "75%       93561.92\n",
       "90%      105544.74\n",
       "95%      125277.56\n",
       "99%      168878.19\n",
       "max      219595.21\n",
       "Name: GDP_pw, dtype: float64"
      ]
     },
     "execution_count": 9,
     "metadata": {},
     "output_type": "execute_result"
    }
   ],
   "source": [
    "pwt_subset['GDP_pw'] = pwt_subset['cgdpo']/pwt_subset['emp']\n",
    "pwt_subset['GDP_pw'].describe([0.01,0.05,0.10,0.25,0.50,0.75,0.90,0.95,0.99]).round(2)"
   ]
  },
  {
   "cell_type": "code",
   "execution_count": 11,
   "id": "0c3f8f60",
   "metadata": {},
   "outputs": [
    {
     "data": {
      "text/plain": [
       "20.814458401678372"
      ]
     },
     "execution_count": 11,
     "metadata": {},
     "output_type": "execute_result"
    }
   ],
   "source": [
    "log_var_y_pw = np.log(np.var(pwt_subset['GDP_pw']))\n",
    "log_var_y_pw"
   ]
  },
  {
   "cell_type": "code",
   "execution_count": 13,
   "id": "074ae61b",
   "metadata": {},
   "outputs": [
    {
     "data": {
      "text/plain": [
       "count       608.000000\n",
       "mean      36327.657252\n",
       "std       16863.587444\n",
       "min       12553.527806\n",
       "1%        13531.546021\n",
       "5%        18028.076165\n",
       "10%       20836.245897\n",
       "25%       26781.937474\n",
       "50%       33143.106146\n",
       "75%       41459.047422\n",
       "90%       52930.520554\n",
       "95%       58693.467320\n",
       "99%       93791.939472\n",
       "max      170276.415340\n",
       "Name: y_hk_pw, dtype: float64"
      ]
     },
     "execution_count": 13,
     "metadata": {},
     "output_type": "execute_result"
    }
   ],
   "source": [
    "pwt_subset['y_hk_pw'] = (pwt_subset['cn']**(1-pwt_subset['labsh']))*((pwt_subset['emp']*pwt_subset['avh']*pwt_subset['hc'])**pwt_subset['labsh'])\n",
    "pwt_subset['y_hk_pw'] = pwt_subset['y_hk_pw']/pwt_subset['emp']\n",
    "pwt_subset['y_hk_pw'].describe([0.01,0.05,0.10,0.25,0.50,0.75,0.90,0.95,0.99])"
   ]
  },
  {
   "cell_type": "code",
   "execution_count": 15,
   "id": "919a1f1f",
   "metadata": {},
   "outputs": [
    {
     "data": {
      "text/plain": [
       "19.46417788374606"
      ]
     },
     "execution_count": 15,
     "metadata": {},
     "output_type": "execute_result"
    }
   ],
   "source": [
    "log_var_y_hk_pw = np.log(np.var(pwt_subset['y_hk_pw']))\n",
    "log_var_y_hk_pw"
   ]
  },
  {
   "cell_type": "code",
   "execution_count": 20,
   "id": "db47e915",
   "metadata": {
    "scrolled": true
   },
   "outputs": [
    {
     "data": {
      "text/plain": [
       "(10.955242208251137, 6.931354283261731)"
      ]
     },
     "execution_count": 20,
     "metadata": {},
     "output_type": "execute_result"
    }
   ],
   "source": [
    "ypw_p99_p01_ratio    = pwt_subset['GDP_pw'].quantile(0.99)/pwt_subset['GDP_pw'].quantile(0.01)\n",
    "yhk_pw_p99_p01_ratio = pwt_subset['y_hk_pw'].quantile(0.99)/pwt_subset['y_hk_pw'].quantile(0.01)\n",
    "ypw_p99_p01_ratio,yhk_pw_p99_p01_ratio"
   ]
  },
  {
   "cell_type": "code",
   "execution_count": 21,
   "id": "7767890f",
   "metadata": {},
   "outputs": [
    {
     "data": {
      "text/plain": [
       "(5.597827987961038, 3.2556700327746553)"
      ]
     },
     "execution_count": 21,
     "metadata": {},
     "output_type": "execute_result"
    }
   ],
   "source": [
    "ypw_p95_p05_ratio    = pwt_subset['GDP_pw'].quantile(0.95)/pwt_subset['GDP_pw'].quantile(0.05)\n",
    "yhk_pw_p95_p05_ratio = pwt_subset['y_hk_pw'].quantile(0.95)/pwt_subset['y_hk_pw'].quantile(0.05)\n",
    "ypw_p95_p05_ratio,yhk_pw_p95_p05_ratio"
   ]
  },
  {
   "cell_type": "code",
   "execution_count": 22,
   "id": "303838d4",
   "metadata": {},
   "outputs": [
    {
     "data": {
      "text/plain": [
       "(4.134583599561562, 2.5403098434977927)"
      ]
     },
     "execution_count": 22,
     "metadata": {},
     "output_type": "execute_result"
    }
   ],
   "source": [
    "ypw_p90_p10_ratio    = pwt_subset['GDP_pw'].quantile(0.90)/pwt_subset['GDP_pw'].quantile(0.10)\n",
    "yhk_pw_p90_p10_ratio = pwt_subset['y_hk_pw'].quantile(0.90)/pwt_subset['y_hk_pw'].quantile(0.10)\n",
    "ypw_p90_p10_ratio,yhk_pw_p90_p10_ratio"
   ]
  },
  {
   "cell_type": "code",
   "execution_count": 23,
   "id": "b35f5137",
   "metadata": {},
   "outputs": [
    {
     "data": {
      "text/plain": [
       "(2.145960810420664, 1.548022709796572)"
      ]
     },
     "execution_count": 23,
     "metadata": {},
     "output_type": "execute_result"
    }
   ],
   "source": [
    "ypw_p75_p25_ratio    = pwt_subset['GDP_pw'].quantile(0.75)/pwt_subset['GDP_pw'].quantile(0.25)\n",
    "yhk_pw_p75_p25_ratio = pwt_subset['y_hk_pw'].quantile(0.75)/pwt_subset['y_hk_pw'].quantile(0.25)\n",
    "ypw_p75_p25_ratio,yhk_pw_p75_p25_ratio"
   ]
  },
  {
   "cell_type": "markdown",
   "id": "0eb89989",
   "metadata": {},
   "source": [
    "## GDP per worker: Measures of Success"
   ]
  },
  {
   "cell_type": "code",
   "execution_count": 24,
   "id": "f29f6f6f",
   "metadata": {},
   "outputs": [
    {
     "data": {
      "text/plain": [
       "0.9351277611036263"
      ]
     },
     "execution_count": 24,
     "metadata": {},
     "output_type": "execute_result"
    }
   ],
   "source": [
    "success1_pw = log_var_y_hk_pw/log_var_y_pw\n",
    "success1_pw"
   ]
  },
  {
   "cell_type": "code",
   "execution_count": 27,
   "id": "884c9924",
   "metadata": {},
   "outputs": [
    {
     "data": {
      "text/plain": [
       "0.6326974932641158"
      ]
     },
     "execution_count": 27,
     "metadata": {},
     "output_type": "execute_result"
    }
   ],
   "source": [
    "success1_pw_99_01 = yhk_pw_p99_p01_ratio/ypw_p99_p01_ratio\n",
    "success1_pw_99_01"
   ]
  },
  {
   "cell_type": "code",
   "execution_count": 28,
   "id": "a5da231c",
   "metadata": {},
   "outputs": [
    {
     "data": {
      "text/plain": [
       "0.5815952258226688"
      ]
     },
     "execution_count": 28,
     "metadata": {},
     "output_type": "execute_result"
    }
   ],
   "source": [
    "success1_pw_95_05 = yhk_pw_p95_p05_ratio/ypw_p95_p05_ratio\n",
    "success1_pw_95_05"
   ]
  },
  {
   "cell_type": "code",
   "execution_count": 29,
   "id": "470585c2",
   "metadata": {},
   "outputs": [
    {
     "data": {
      "text/plain": [
       "0.6144052435575789"
      ]
     },
     "execution_count": 29,
     "metadata": {},
     "output_type": "execute_result"
    }
   ],
   "source": [
    "success1_pw_90_10 = yhk_pw_p90_p10_ratio/ypw_p90_p10_ratio\n",
    "success1_pw_90_10"
   ]
  },
  {
   "cell_type": "code",
   "execution_count": 30,
   "id": "3c57f903",
   "metadata": {},
   "outputs": [
    {
     "data": {
      "text/plain": [
       "0.7213657874269938"
      ]
     },
     "execution_count": 30,
     "metadata": {},
     "output_type": "execute_result"
    }
   ],
   "source": [
    "success1_pw_75_25 = yhk_pw_p75_p25_ratio/ypw_p75_p25_ratio\n",
    "success1_pw_75_25"
   ]
  },
  {
   "cell_type": "markdown",
   "id": "c7138217",
   "metadata": {},
   "source": [
    "Factors of production explain 93% of the variance in income per worker!"
   ]
  },
  {
   "cell_type": "markdown",
   "id": "ede2f0dd",
   "metadata": {},
   "source": [
    "## Disecting the Measure of Success"
   ]
  },
  {
   "cell_type": "markdown",
   "id": "f6ae5e52",
   "metadata": {},
   "source": [
    "### Counterfactual 1: Shuting Down the Variation in the Labour Share"
   ]
  },
  {
   "cell_type": "code",
   "execution_count": 38,
   "id": "825e3446",
   "metadata": {},
   "outputs": [],
   "source": [
    "pwt_subset['y_hk_pw_alt1'] = (pwt_subset['cn']**(1/3))*((pwt_subset['emp']*pwt_subset['avh']*pwt_subset['hc'])**(2/3))\n",
    "pwt_subset['y_hk_pw_alt1'] = pwt_subset['y_hk_pw_alt1']/pwt_subset['emp']"
   ]
  },
  {
   "cell_type": "code",
   "execution_count": 39,
   "id": "156b5a89",
   "metadata": {},
   "outputs": [
    {
     "data": {
      "text/plain": [
       "17.11194291098413"
      ]
     },
     "execution_count": 39,
     "metadata": {},
     "output_type": "execute_result"
    }
   ],
   "source": [
    "log_var_y_hk_pw_alt1 = np.log(np.var(pwt_subset['y_hk_pw_alt1']))\n",
    "log_var_y_hk_pw_alt1"
   ]
  },
  {
   "cell_type": "code",
   "execution_count": 40,
   "id": "e5bacfcd",
   "metadata": {},
   "outputs": [
    {
     "data": {
      "text/plain": [
       "0.8221180960252278"
      ]
     },
     "execution_count": 40,
     "metadata": {},
     "output_type": "execute_result"
    }
   ],
   "source": [
    "success1_pw_alt1 = log_var_y_hk_pw_alt1/log_var_y_pw\n",
    "success1_pw_alt1"
   ]
  },
  {
   "cell_type": "code",
   "execution_count": 41,
   "id": "f9e37614",
   "metadata": {},
   "outputs": [],
   "source": [
    "pwt_subset['y_hk_pw_alt2'] = (pwt_subset['cn']**(1-0.55))*((pwt_subset['emp']*pwt_subset['avh']*pwt_subset['hc'])**(0.55))\n",
    "pwt_subset['y_hk_pw_alt2'] = pwt_subset['y_hk_pw_alt2']/pwt_subset['emp']"
   ]
  },
  {
   "cell_type": "code",
   "execution_count": 42,
   "id": "2871c019",
   "metadata": {},
   "outputs": [
    {
     "data": {
      "text/plain": [
       "18.4689641316013"
      ]
     },
     "execution_count": 42,
     "metadata": {},
     "output_type": "execute_result"
    }
   ],
   "source": [
    "log_var_y_hk_pw_alt2 = np.log(np.var(pwt_subset['y_hk_pw_alt2']))\n",
    "log_var_y_hk_pw_alt2"
   ]
  },
  {
   "cell_type": "code",
   "execution_count": 43,
   "id": "ee7f0d7b",
   "metadata": {},
   "outputs": [
    {
     "data": {
      "text/plain": [
       "0.8873141820549151"
      ]
     },
     "execution_count": 43,
     "metadata": {},
     "output_type": "execute_result"
    }
   ],
   "source": [
    "success1_pw_alt2 = log_var_y_hk_pw_alt2/log_var_y_pw\n",
    "success1_pw_alt2"
   ]
  },
  {
   "cell_type": "markdown",
   "id": "7a980c86",
   "metadata": {},
   "source": [
    "### Counterfactual 3: Shuting Down the Variation in Hours Worked"
   ]
  },
  {
   "cell_type": "code",
   "execution_count": 44,
   "id": "c768600c",
   "metadata": {},
   "outputs": [],
   "source": [
    "pwt_subset['y_hk_pw_alt3'] = (pwt_subset['cn']**(1-0.55))*((pwt_subset['emp']*1814.08*pwt_subset['hc'])**(0.55))\n",
    "pwt_subset['y_hk_pw_alt3'] = pwt_subset['y_hk_pw_alt3']/pwt_subset['emp']"
   ]
  },
  {
   "cell_type": "code",
   "execution_count": 45,
   "id": "acd6ec53",
   "metadata": {},
   "outputs": [
    {
     "data": {
      "text/plain": [
       "18.629354075534682"
      ]
     },
     "execution_count": 45,
     "metadata": {},
     "output_type": "execute_result"
    }
   ],
   "source": [
    "log_var_y_hk_pw_alt3 = np.log(np.var(pwt_subset['y_hk_pw_alt3']))\n",
    "log_var_y_hk_pw_alt3"
   ]
  },
  {
   "cell_type": "code",
   "execution_count": 47,
   "id": "d4208d9a",
   "metadata": {},
   "outputs": [
    {
     "data": {
      "text/plain": [
       "0.8950198807014121"
      ]
     },
     "execution_count": 47,
     "metadata": {},
     "output_type": "execute_result"
    }
   ],
   "source": [
    "success1_pw_alt3 = log_var_y_hk_pw_alt3/log_var_y_pw\n",
    "success1_pw_alt3"
   ]
  },
  {
   "cell_type": "markdown",
   "id": "0340cd56",
   "metadata": {},
   "source": [
    "### Counterfactual 4: Shuting Down the Variation in Human Capital"
   ]
  },
  {
   "cell_type": "code",
   "execution_count": 49,
   "id": "3ab22bad",
   "metadata": {},
   "outputs": [],
   "source": [
    "pwt_subset['y_hk_pw_alt4'] = (pwt_subset['cn']**(1-0.55))*((pwt_subset['emp']*1814.08*3.23)**(0.55))\n",
    "pwt_subset['y_hk_pw_alt4'] = pwt_subset['y_hk_pw_alt4']/pwt_subset['emp']"
   ]
  },
  {
   "cell_type": "code",
   "execution_count": 50,
   "id": "a14895c8",
   "metadata": {},
   "outputs": [
    {
     "data": {
      "text/plain": [
       "18.41050821517575"
      ]
     },
     "execution_count": 50,
     "metadata": {},
     "output_type": "execute_result"
    }
   ],
   "source": [
    "log_var_y_hk_pw_alt4 = np.log(np.var(pwt_subset['y_hk_pw_alt4']))\n",
    "log_var_y_hk_pw_alt4"
   ]
  },
  {
   "cell_type": "code",
   "execution_count": 51,
   "id": "14115670",
   "metadata": {},
   "outputs": [
    {
     "data": {
      "text/plain": [
       "0.8845057536395575"
      ]
     },
     "execution_count": 51,
     "metadata": {},
     "output_type": "execute_result"
    }
   ],
   "source": [
    "success1_pw_alt4 = log_var_y_hk_pw_alt4/log_var_y_pw\n",
    "success1_pw_alt4"
   ]
  },
  {
   "cell_type": "markdown",
   "id": "8c337bd8",
   "metadata": {},
   "source": [
    "### Counterfactual 5: Shuting Down the Variation in Physical Capital "
   ]
  },
  {
   "cell_type": "code",
   "execution_count": 52,
   "id": "aab04da6",
   "metadata": {},
   "outputs": [],
   "source": [
    "pwt_subset['y_hk_pw_alt5'] = (6.100000e+01**(1-0.55))*((pwt_subset['emp']*1814.08*3.23)**(0.55))\n",
    "pwt_subset['y_hk_pw_alt5'] = pwt_subset['y_hk_pw_alt5']/pwt_subset['emp']"
   ]
  },
  {
   "cell_type": "code",
   "execution_count": 53,
   "id": "b44df124",
   "metadata": {},
   "outputs": [
    {
     "data": {
      "text/plain": [
       "11.594657038362916"
      ]
     },
     "execution_count": 53,
     "metadata": {},
     "output_type": "execute_result"
    }
   ],
   "source": [
    "log_var_y_hk_pw_alt5 = np.log(np.var(pwt_subset['y_hk_pw_alt5']))\n",
    "log_var_y_hk_pw_alt5"
   ]
  },
  {
   "cell_type": "code",
   "execution_count": 54,
   "id": "4fc6be54",
   "metadata": {},
   "outputs": [
    {
     "data": {
      "text/plain": [
       "0.5570482217028516"
      ]
     },
     "execution_count": 54,
     "metadata": {},
     "output_type": "execute_result"
    }
   ],
   "source": [
    "success1_pw_alt5 = log_var_y_hk_pw_alt5/log_var_y_pw\n",
    "success1_pw_alt5"
   ]
  },
  {
   "cell_type": "code",
   "execution_count": 55,
   "id": "72f0f74b",
   "metadata": {},
   "outputs": [
    {
     "data": {
      "text/plain": [
       "(19.46417788374606,\n",
       " 18.4689641316013,\n",
       " 18.629354075534682,\n",
       " 18.41050821517575,\n",
       " 11.594657038362916)"
      ]
     },
     "execution_count": 55,
     "metadata": {},
     "output_type": "execute_result"
    }
   ],
   "source": [
    "log_var_y_hk_pw,log_var_y_hk_pw_alt2,log_var_y_hk_pw_alt3,log_var_y_hk_pw_alt4,log_var_y_hk_pw_alt5"
   ]
  },
  {
   "cell_type": "code",
   "execution_count": 56,
   "id": "f58beb97",
   "metadata": {},
   "outputs": [
    {
     "data": {
      "text/plain": [
       "7.8695208453831444"
      ]
     },
     "execution_count": 56,
     "metadata": {},
     "output_type": "execute_result"
    }
   ],
   "source": [
    "(log_var_y_hk_pw-log_var_y_hk_pw_alt5)"
   ]
  },
  {
   "cell_type": "code",
   "execution_count": 57,
   "id": "013a6a26",
   "metadata": {},
   "outputs": [
    {
     "data": {
      "text/plain": [
       "6.815851176812833"
      ]
     },
     "execution_count": 57,
     "metadata": {},
     "output_type": "execute_result"
    }
   ],
   "source": [
    "(log_var_y_hk_pw_alt4-log_var_y_hk_pw_alt5)"
   ]
  },
  {
   "cell_type": "code",
   "execution_count": 58,
   "id": "f76573f2",
   "metadata": {},
   "outputs": [
    {
     "data": {
      "text/plain": [
       "0.2188458603589325"
      ]
     },
     "execution_count": 58,
     "metadata": {},
     "output_type": "execute_result"
    }
   ],
   "source": [
    "(log_var_y_hk_pw_alt3-log_var_y_hk_pw_alt4)"
   ]
  },
  {
   "cell_type": "code",
   "execution_count": 71,
   "id": "6fd9f11b",
   "metadata": {},
   "outputs": [
    {
     "data": {
      "text/plain": [
       "0.8348238082113788"
      ]
     },
     "execution_count": 71,
     "metadata": {},
     "output_type": "execute_result"
    }
   ],
   "source": [
    "np.abs(log_var_y_hk_pw-log_var_y_hk_pw_alt3)"
   ]
  },
  {
   "cell_type": "code",
   "execution_count": 61,
   "id": "094b27e4",
   "metadata": {},
   "outputs": [
    {
     "data": {
      "text/plain": [
       "0.9952137521447604"
      ]
     },
     "execution_count": 61,
     "metadata": {},
     "output_type": "execute_result"
    }
   ],
   "source": [
    "(log_var_y_hk_pw - log_var_y_hk_pw_alt2)"
   ]
  },
  {
   "cell_type": "code",
   "execution_count": 65,
   "id": "3cb6737b",
   "metadata": {},
   "outputs": [
    {
     "data": {
      "text/plain": [
       "8.190300733249908"
      ]
     },
     "execution_count": 65,
     "metadata": {},
     "output_type": "execute_result"
    }
   ],
   "source": [
    "total_change = np.abs((log_var_y_hk_pw_alt4-log_var_y_hk_pw_alt5) + np.abs(log_var_y_hk_pw_alt3-log_var_y_hk_pw_alt4) + np.abs(log_var_y_hk_pw_alt2-log_var_y_hk_pw_alt3) + np.abs(log_var_y_hk_pw - log_var_y_hk_pw_alt2)\n",
    "total_change"
   ]
  },
  {
   "cell_type": "code",
   "execution_count": 67,
   "id": "1bdb954f",
   "metadata": {},
   "outputs": [
    {
     "data": {
      "text/plain": [
       "0.8321857034068035"
      ]
     },
     "execution_count": 67,
     "metadata": {},
     "output_type": "execute_result"
    }
   ],
   "source": [
    "capital_change = np.abs(log_var_y_hk_pw_alt4-log_var_y_hk_pw_alt5)\n",
    "capital_change/total_change"
   ]
  },
  {
   "cell_type": "code",
   "execution_count": 68,
   "id": "a5854161",
   "metadata": {},
   "outputs": [
    {
     "data": {
      "text/plain": [
       "0.026720125119519825"
      ]
     },
     "execution_count": 68,
     "metadata": {},
     "output_type": "execute_result"
    }
   ],
   "source": [
    "human_capital_change = (log_var_y_hk_pw_alt3-log_var_y_hk_pw_alt4)\n",
    "human_capital_change/total_change"
   ]
  },
  {
   "cell_type": "code",
   "execution_count": 73,
   "id": "61d8d039",
   "metadata": {},
   "outputs": [
    {
     "data": {
      "text/plain": [
       "0.019582912661833228"
      ]
     },
     "execution_count": 73,
     "metadata": {},
     "output_type": "execute_result"
    }
   ],
   "source": [
    "hours_worked_change = np.abs(log_var_y_hk_pw_alt2 - log_var_y_hk_pw_alt3)\n",
    "hours_worked_change/total_change"
   ]
  },
  {
   "cell_type": "code",
   "execution_count": 74,
   "id": "a264a8c1",
   "metadata": {},
   "outputs": [
    {
     "data": {
      "text/plain": [
       "0.12151125881184341"
      ]
     },
     "execution_count": 74,
     "metadata": {},
     "output_type": "execute_result"
    }
   ],
   "source": [
    "labsh_change = np.abs(log_var_y_hk_pw - log_var_y_hk_pw_alt2)\n",
    "labsh_change/total_change"
   ]
  },
  {
   "cell_type": "code",
   "execution_count": null,
   "id": "6a80c707",
   "metadata": {},
   "outputs": [],
   "source": []
  }
 ],
 "metadata": {
  "kernelspec": {
   "display_name": "Python 3 (ipykernel)",
   "language": "python",
   "name": "python3"
  },
  "language_info": {
   "codemirror_mode": {
    "name": "ipython",
    "version": 3
   },
   "file_extension": ".py",
   "mimetype": "text/x-python",
   "name": "python",
   "nbconvert_exporter": "python",
   "pygments_lexer": "ipython3",
   "version": "3.9.12"
  }
 },
 "nbformat": 4,
 "nbformat_minor": 5
}
